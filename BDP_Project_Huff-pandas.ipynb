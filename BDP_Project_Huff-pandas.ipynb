{
 "cells": [
  {
   "cell_type": "code",
   "execution_count": 1,
   "metadata": {},
   "outputs": [],
   "source": [
    "import pandas as pd\n",
    "from simhash import Simhash, SimhashIndex\n",
    "import pandas as pd\n",
    "import re\n",
    "from itertools import combinations, takewhile\n",
    "import collections\n",
    "import matplotlib.pyplot as plt\n",
    "import os\n",
    "import seaborn as sns\n",
    "from datetime import datetime\n",
    "import numpy as np"
   ]
  },
  {
   "cell_type": "code",
   "execution_count": 2,
   "metadata": {},
   "outputs": [],
   "source": [
    "uchicago_path = './Data/uchicago_texts'\n",
    "stanford_path = './Data/stanford_texts'\n",
    "cornell_path = './Data/cornell_texts'\n",
    "cm_path = './Data/cm_texts'\n",
    "output_path = './Data'"
   ]
  },
  {
   "cell_type": "markdown",
   "metadata": {},
   "source": [
    "---"
   ]
  },
  {
   "cell_type": "markdown",
   "metadata": {},
   "source": [
    "### Prepare Text Data"
   ]
  },
  {
   "cell_type": "code",
   "execution_count": 3,
   "metadata": {},
   "outputs": [],
   "source": [
    "keywords = ['machine learning', \n",
    "            'machinelearning',\n",
    "            ' ml '\n",
    "            'bigdata',\n",
    "            'big data',\n",
    "            'deep learning',\n",
    "            'deeplearning',\n",
    "            ' ai ', \n",
    "            'a.i.', \n",
    "            'artificial intelligence', \n",
    "            'artificialintelligence', \n",
    "            'data science', \n",
    "            'datascience', \n",
    "            'analytics']"
   ]
  },
  {
   "cell_type": "code",
   "execution_count": 5,
   "metadata": {},
   "outputs": [
    {
     "name": "stdout",
     "output_type": "stream",
     "text": [
      "(4264, 2)\n"
     ]
    }
   ],
   "source": [
    "uchicago_df_list = []\n",
    "uchicago_file_list = [i for i in os.listdir(uchicago_path) if i.split('.')[-1]=='csv']\n",
    "for file in uchicago_file_list:\n",
    "    uchicago_df_list.append(pd.read_csv(os.path.join(uchicago_path, file), header=None, names=['tweet_id', 'text']))\n",
    "\n",
    "uchicago_merged = pd.concat(uchicago_df_list, ignore_index=True).reset_index(drop=True).drop_duplicates()\n",
    "\n",
    "uchicago_merged = uchicago_merged.loc[uchicago_merged.text.apply(\n",
    "    lambda x: any(word in str(x).lower() for word in keywords)), :].reset_index(drop=True)\n",
    "uchicago_merged['text'] = uchicago_merged.text.apply(lambda x: x.replace('\\n', ' '))\n",
    "\n",
    "print(uchicago_merged.shape)\n",
    "pd.to_pickle(uchicago_merged, os.path.join(output_path, 'uchicago_texts.pkl'))"
   ]
  },
  {
   "cell_type": "code",
   "execution_count": 6,
   "metadata": {},
   "outputs": [
    {
     "name": "stdout",
     "output_type": "stream",
     "text": [
      "(48713, 2)\n"
     ]
    }
   ],
   "source": [
    "stanford_df_list = []\n",
    "stanford_file_list = [i for i in os.listdir(stanford_path) if i.split('.')[-1]=='csv']\n",
    "for file in stanford_file_list:\n",
    "    stanford_df_list.append(pd.read_csv(os.path.join(stanford_path, file), header=None, names=['tweet_id', 'text']))\n",
    "\n",
    "stanford_merged = pd.concat(stanford_df_list, ignore_index=True).reset_index(drop=True).drop_duplicates()\n",
    "\n",
    "stanford_merged = stanford_merged.loc[stanford_merged.text.apply(\n",
    "    lambda x: any(word in str(x).lower() for word in keywords)), :].reset_index(drop=True)\n",
    "stanford_merged['text'] = stanford_merged.text.apply(lambda x: x.replace('\\n', ' '))\n",
    "\n",
    "print(stanford_merged.shape)\n",
    "pd.to_pickle(stanford_merged, os.path.join(output_path, 'stanford_texts.pkl'))"
   ]
  },
  {
   "cell_type": "code",
   "execution_count": 7,
   "metadata": {},
   "outputs": [
    {
     "name": "stdout",
     "output_type": "stream",
     "text": [
      "(2204, 2)\n"
     ]
    }
   ],
   "source": [
    "cornell_df_list = []\n",
    "cornell_file_list = [i for i in os.listdir(cornell_path) if i.split('.')[-1]=='csv']\n",
    "for file in cornell_file_list:\n",
    "    cornell_df_list.append(pd.read_csv(os.path.join(cornell_path, file), header=None, names=['tweet_id', 'text']))\n",
    "\n",
    "cornell_merged = pd.concat(cornell_df_list, ignore_index=True).reset_index(drop=True).drop_duplicates()\n",
    "\n",
    "cornell_merged = cornell_merged.loc[cornell_merged.text.apply(\n",
    "    lambda x: any(word in str(x).lower() for word in keywords)), :].reset_index(drop=True)\n",
    "cornell_merged['text'] = cornell_merged.text.apply(lambda x: x.replace('\\n', ' '))\n",
    "\n",
    "print(cornell_merged.shape)\n",
    "pd.to_pickle(cornell_merged, os.path.join(output_path, 'cornell_texts.pkl'))"
   ]
  },
  {
   "cell_type": "code",
   "execution_count": 8,
   "metadata": {},
   "outputs": [
    {
     "name": "stdout",
     "output_type": "stream",
     "text": [
      "(5943, 2)\n"
     ]
    }
   ],
   "source": [
    "cm_df_list = []\n",
    "cm_file_list = [i for i in os.listdir(cm_path) if i.split('.')[-1]=='csv']\n",
    "for file in cm_file_list:\n",
    "    cm_df_list.append(pd.read_csv(os.path.join(cm_path, file), header=None, names=['tweet_id', 'text']))\n",
    "\n",
    "cm_merged = pd.concat(cm_df_list, ignore_index=True).reset_index(drop=True).drop_duplicates()\n",
    "\n",
    "cm_merged = cm_merged.loc[cm_merged.text.apply(\n",
    "    lambda x: any(word in str(x).lower() for word in keywords)), :].reset_index(drop=True)\n",
    "cm_merged['text'] = cm_merged.text.apply(lambda x: x.replace('\\n', ' '))\n",
    "\n",
    "print(cm_merged.shape)\n",
    "pd.to_pickle(cm_merged, os.path.join(output_path, 'cm_texts.pkl'))"
   ]
  },
  {
   "cell_type": "markdown",
   "metadata": {},
   "source": [
    "***"
   ]
  },
  {
   "cell_type": "markdown",
   "metadata": {},
   "source": [
    "### SimHash Analysis"
   ]
  },
  {
   "cell_type": "code",
   "execution_count": 4,
   "metadata": {},
   "outputs": [
    {
     "data": {
      "text/html": [
       "<div>\n",
       "<style scoped>\n",
       "    .dataframe tbody tr th:only-of-type {\n",
       "        vertical-align: middle;\n",
       "    }\n",
       "\n",
       "    .dataframe tbody tr th {\n",
       "        vertical-align: top;\n",
       "    }\n",
       "\n",
       "    .dataframe thead th {\n",
       "        text-align: right;\n",
       "    }\n",
       "</style>\n",
       "<table border=\"1\" class=\"dataframe\">\n",
       "  <thead>\n",
       "    <tr style=\"text-align: right;\">\n",
       "      <th></th>\n",
       "      <th>tweet_id</th>\n",
       "      <th>text</th>\n",
       "    </tr>\n",
       "  </thead>\n",
       "  <tbody>\n",
       "    <tr>\n",
       "      <th>0</th>\n",
       "      <td>904792792899219458</td>\n",
       "      <td>buzzofinnovation excellent article about our u...</td>\n",
       "    </tr>\n",
       "    <tr>\n",
       "      <th>1</th>\n",
       "      <td>904839005493235712</td>\n",
       "      <td>new program teaches data science for energy an...</td>\n",
       "    </tr>\n",
       "    <tr>\n",
       "      <th>2</th>\n",
       "      <td>904848531818778624</td>\n",
       "      <td>rt ryanpierce_chi buzzofinnovation excellent a...</td>\n",
       "    </tr>\n",
       "    <tr>\n",
       "      <th>3</th>\n",
       "      <td>904848794742902785</td>\n",
       "      <td>rt ryanpierce_chi buzzofinnovation excellent a...</td>\n",
       "    </tr>\n",
       "    <tr>\n",
       "      <th>4</th>\n",
       "      <td>928690581747961856</td>\n",
       "      <td>uchicago business analytics  uchicago business</td>\n",
       "    </tr>\n",
       "  </tbody>\n",
       "</table>\n",
       "</div>"
      ],
      "text/plain": [
       "             tweet_id                                               text\n",
       "0  904792792899219458  buzzofinnovation excellent article about our u...\n",
       "1  904839005493235712  new program teaches data science for energy an...\n",
       "2  904848531818778624  rt ryanpierce_chi buzzofinnovation excellent a...\n",
       "3  904848794742902785  rt ryanpierce_chi buzzofinnovation excellent a...\n",
       "4  928690581747961856     uchicago business analytics  uchicago business"
      ]
     },
     "execution_count": 4,
     "metadata": {},
     "output_type": "execute_result"
    }
   ],
   "source": [
    "uchicago = pd.read_pickle('C:/Users/Jon/OneDrive/School/Big Data/Project/Data/uchicago_texts.pkl')\n",
    "uchicago.head()"
   ]
  },
  {
   "cell_type": "code",
   "execution_count": 5,
   "metadata": {},
   "outputs": [
    {
     "data": {
      "text/html": [
       "<div>\n",
       "<style scoped>\n",
       "    .dataframe tbody tr th:only-of-type {\n",
       "        vertical-align: middle;\n",
       "    }\n",
       "\n",
       "    .dataframe tbody tr th {\n",
       "        vertical-align: top;\n",
       "    }\n",
       "\n",
       "    .dataframe thead th {\n",
       "        text-align: right;\n",
       "    }\n",
       "</style>\n",
       "<table border=\"1\" class=\"dataframe\">\n",
       "  <thead>\n",
       "    <tr style=\"text-align: right;\">\n",
       "      <th></th>\n",
       "      <th>tweet_id</th>\n",
       "      <th>text</th>\n",
       "    </tr>\n",
       "  </thead>\n",
       "  <tbody>\n",
       "    <tr>\n",
       "      <th>0</th>\n",
       "      <td>891374781630734337</td>\n",
       "      <td>adobe and stanford just taught ai to edit vide...</td>\n",
       "    </tr>\n",
       "    <tr>\n",
       "      <th>1</th>\n",
       "      <td>897297772260536320</td>\n",
       "      <td>rt stanfordnlp free uptodate stanford deep lea...</td>\n",
       "    </tr>\n",
       "    <tr>\n",
       "      <th>2</th>\n",
       "      <td>897301183823364096</td>\n",
       "      <td>rt stanfordnlp free uptodate stanford deep lea...</td>\n",
       "    </tr>\n",
       "    <tr>\n",
       "      <th>3</th>\n",
       "      <td>897303778977644544</td>\n",
       "      <td>rt stanfordnlp free uptodate stanford deep lea...</td>\n",
       "    </tr>\n",
       "    <tr>\n",
       "      <th>4</th>\n",
       "      <td>897305300683939840</td>\n",
       "      <td>rt stanfordnlp free uptodate stanford deep lea...</td>\n",
       "    </tr>\n",
       "  </tbody>\n",
       "</table>\n",
       "</div>"
      ],
      "text/plain": [
       "             tweet_id                                               text\n",
       "0  891374781630734337  adobe and stanford just taught ai to edit vide...\n",
       "1  897297772260536320  rt stanfordnlp free uptodate stanford deep lea...\n",
       "2  897301183823364096  rt stanfordnlp free uptodate stanford deep lea...\n",
       "3  897303778977644544  rt stanfordnlp free uptodate stanford deep lea...\n",
       "4  897305300683939840  rt stanfordnlp free uptodate stanford deep lea..."
      ]
     },
     "execution_count": 5,
     "metadata": {},
     "output_type": "execute_result"
    }
   ],
   "source": [
    "stanford = pd.read_pickle('C:/Users/Jon/OneDrive/School/Big Data/Project/Data/stanford_texts.pkl')\n",
    "stanford.head()"
   ]
  },
  {
   "cell_type": "code",
   "execution_count": 6,
   "metadata": {},
   "outputs": [
    {
     "data": {
      "text/html": [
       "<div>\n",
       "<style scoped>\n",
       "    .dataframe tbody tr th:only-of-type {\n",
       "        vertical-align: middle;\n",
       "    }\n",
       "\n",
       "    .dataframe tbody tr th {\n",
       "        vertical-align: top;\n",
       "    }\n",
       "\n",
       "    .dataframe thead th {\n",
       "        text-align: right;\n",
       "    }\n",
       "</style>\n",
       "<table border=\"1\" class=\"dataframe\">\n",
       "  <thead>\n",
       "    <tr style=\"text-align: right;\">\n",
       "      <th></th>\n",
       "      <th>tweet_id</th>\n",
       "      <th>text</th>\n",
       "    </tr>\n",
       "  </thead>\n",
       "  <tbody>\n",
       "    <tr>\n",
       "      <th>0</th>\n",
       "      <td>966711727118278656</td>\n",
       "      <td>weny_nickq special report on artificial intell...</td>\n",
       "    </tr>\n",
       "    <tr>\n",
       "      <th>1</th>\n",
       "      <td>967434346134233088</td>\n",
       "      <td>rt aganalytics check out our new crop insuranc...</td>\n",
       "    </tr>\n",
       "    <tr>\n",
       "      <th>2</th>\n",
       "      <td>968631962737897473</td>\n",
       "      <td>rt aganalytics john deere operations center co...</td>\n",
       "    </tr>\n",
       "    <tr>\n",
       "      <th>3</th>\n",
       "      <td>968889392692678657</td>\n",
       "      <td>rt aganalytics john deere operations center co...</td>\n",
       "    </tr>\n",
       "    <tr>\n",
       "      <th>4</th>\n",
       "      <td>968952247655780357</td>\n",
       "      <td>rt aganalytics john deere operations center co...</td>\n",
       "    </tr>\n",
       "  </tbody>\n",
       "</table>\n",
       "</div>"
      ],
      "text/plain": [
       "             tweet_id                                               text\n",
       "0  966711727118278656  weny_nickq special report on artificial intell...\n",
       "1  967434346134233088  rt aganalytics check out our new crop insuranc...\n",
       "2  968631962737897473  rt aganalytics john deere operations center co...\n",
       "3  968889392692678657  rt aganalytics john deere operations center co...\n",
       "4  968952247655780357  rt aganalytics john deere operations center co..."
      ]
     },
     "execution_count": 6,
     "metadata": {},
     "output_type": "execute_result"
    }
   ],
   "source": [
    "cornell = pd.read_pickle('C:/Users/Jon/OneDrive/School/Big Data/Project/Data/cornell_texts.pkl')\n",
    "cornell.head()"
   ]
  },
  {
   "cell_type": "code",
   "execution_count": 7,
   "metadata": {},
   "outputs": [
    {
     "data": {
      "text/html": [
       "<div>\n",
       "<style scoped>\n",
       "    .dataframe tbody tr th:only-of-type {\n",
       "        vertical-align: middle;\n",
       "    }\n",
       "\n",
       "    .dataframe tbody tr th {\n",
       "        vertical-align: top;\n",
       "    }\n",
       "\n",
       "    .dataframe thead th {\n",
       "        text-align: right;\n",
       "    }\n",
       "</style>\n",
       "<table border=\"1\" class=\"dataframe\">\n",
       "  <thead>\n",
       "    <tr style=\"text-align: right;\">\n",
       "      <th></th>\n",
       "      <th>tweet_id</th>\n",
       "      <th>text</th>\n",
       "    </tr>\n",
       "  </thead>\n",
       "  <tbody>\n",
       "    <tr>\n",
       "      <th>0</th>\n",
       "      <td>898931181063766016</td>\n",
       "      <td>carnegiemellon cmuhcii facebook georgiatech ha...</td>\n",
       "    </tr>\n",
       "    <tr>\n",
       "      <th>1</th>\n",
       "      <td>904730811878047746</td>\n",
       "      <td>a sensor that could soon makes homes scarysmar...</td>\n",
       "    </tr>\n",
       "    <tr>\n",
       "      <th>2</th>\n",
       "      <td>904779217048612864</td>\n",
       "      <td>a sensor that could soon makes homes scarysmar...</td>\n",
       "    </tr>\n",
       "    <tr>\n",
       "      <th>3</th>\n",
       "      <td>933139992787828738</td>\n",
       "      <td>carnegie mellon university launches ai researc...</td>\n",
       "    </tr>\n",
       "    <tr>\n",
       "      <th>4</th>\n",
       "      <td>933140007728005121</td>\n",
       "      <td>carnegie mellon university launches ai researc...</td>\n",
       "    </tr>\n",
       "  </tbody>\n",
       "</table>\n",
       "</div>"
      ],
      "text/plain": [
       "             tweet_id                                               text\n",
       "0  898931181063766016  carnegiemellon cmuhcii facebook georgiatech ha...\n",
       "1  904730811878047746  a sensor that could soon makes homes scarysmar...\n",
       "2  904779217048612864  a sensor that could soon makes homes scarysmar...\n",
       "3  933139992787828738  carnegie mellon university launches ai researc...\n",
       "4  933140007728005121  carnegie mellon university launches ai researc..."
      ]
     },
     "execution_count": 7,
     "metadata": {},
     "output_type": "execute_result"
    }
   ],
   "source": [
    "cm = pd.read_pickle('C:/Users/Jon/OneDrive/School/Big Data/Project/Data/cm_texts.pkl')\n",
    "cm.head()"
   ]
  },
  {
   "cell_type": "code",
   "execution_count": 13,
   "metadata": {},
   "outputs": [],
   "source": [
    "uchicago = uchicago.text.to_dict()\n",
    "stanford = stanford.text.to_dict()\n",
    "cornell = cornell.text.to_dict()\n",
    "cm = cm.text.to_dict()"
   ]
  },
  {
   "cell_type": "markdown",
   "metadata": {},
   "source": [
    "**The width parameter will be set to 64 to ensure unique fingerprints according to the SimHash authors, despite it an unnecessarily large hash for this application**"
   ]
  },
  {
   "cell_type": "code",
   "execution_count": 14,
   "metadata": {},
   "outputs": [],
   "source": [
    "def get_features(s):\n",
    "    width = 64\n",
    "    s = s.lower()\n",
    "    s = re.sub(r'[^\\w]+', '', s)\n",
    "    return [s[i:i + width] for i in range(max(len(s) - width + 1, 1))]"
   ]
  },
  {
   "cell_type": "code",
   "execution_count": 15,
   "metadata": {},
   "outputs": [],
   "source": [
    "uchi_objs = [(str(k), Simhash(get_features(v))) for k, v in uchicago.items()]\n",
    "stanford_objs = [(str(k), Simhash(get_features(v))) for k, v in stanford.items()]\n",
    "cornell_objs = [(str(k), Simhash(get_features(v))) for k, v in cornell.items()]\n",
    "cm_objs = [(str(k), Simhash(get_features(v))) for k, v in cm.items()]"
   ]
  },
  {
   "cell_type": "code",
   "execution_count": 16,
   "metadata": {},
   "outputs": [
    {
     "name": "stdout",
     "output_type": "stream",
     "text": [
      "Bucket size (k=0) {'uchi': 2466, 'stanford': 18032, 'cornell': 1048, 'cm': 2623}\n",
      "Bucket size (k=1) {'uchi': 4926, 'stanford': 35957, 'cornell': 2091, 'cm': 5229}\n",
      "Bucket size (k=2) {'uchi': 7368, 'stanford': 53341, 'cornell': 3121, 'cm': 7787}\n",
      "Bucket size (k=3) {'uchi': 9605, 'stanford': 61543, 'cornell': 4084, 'cm': 10064}\n",
      "Bucket size (k=4) {'uchi': 9703, 'stanford': 31540, 'cornell': 4571, 'cm': 9982}\n",
      "Bucket size (k=5) {'uchi': 6885, 'stanford': 15717, 'cornell': 4125, 'cm': 7017}\n",
      "Bucket size (k=6) {'uchi': 3963, 'stanford': 4096, 'cornell': 3222, 'cm': 3970}\n",
      "Bucket size (k=7) {'uchi': 2047, 'stanford': 2048, 'cornell': 1996, 'cm': 2048}\n",
      "Bucket size (k=8) {'uchi': 1280, 'stanford': 1280, 'cornell': 1272, 'cm': 1280}\n",
      "Bucket size (k=9) {'uchi': 1502, 'stanford': 1600, 'cornell': 1198, 'cm': 1510}\n",
      "Bucket size (k=10) {'uchi': 2578, 'stanford': 10917, 'cornell': 1310, 'cm': 2667}\n"
     ]
    }
   ],
   "source": [
    "for i in range(11):\n",
    "    bucket_size = {}\n",
    "    bucket_size['uchi'] = SimhashIndex(uchi_objs, k=i).bucket_size()\n",
    "    bucket_size['stanford'] = SimhashIndex(stanford_objs, k=i).bucket_size()\n",
    "    bucket_size['cornell'] = SimhashIndex(cornell_objs, k=i).bucket_size()\n",
    "    bucket_size['cm'] = SimhashIndex(cm_objs, k=i).bucket_size()\n",
    "    print(f'Bucket size (k={i})', bucket_size)"
   ]
  },
  {
   "cell_type": "markdown",
   "metadata": {},
   "source": [
    "**Analyze duplicate tweets for different *k* thresholds**"
   ]
  },
  {
   "cell_type": "code",
   "execution_count": 17,
   "metadata": {},
   "outputs": [],
   "source": [
    "uchi_dups = {}\n",
    "stanford_dups = {}\n",
    "cornell_dups = {}\n",
    "cm_dups = {}\n",
    "\n",
    "for k in range(1,11):\n",
    "    uchi_index = SimhashIndex(uchi_objs, k=k)\n",
    "    stanford_index = SimhashIndex(stanford_objs, k=k)\n",
    "    cornell_index = SimhashIndex(cornell_objs, k=k)\n",
    "    cm_index = SimhashIndex(cm_objs, k=k)\n",
    "    \n",
    "    uchi_keys = uchi_index.bucket.keys()\n",
    "    uniques = 0\n",
    "    dups = 0\n",
    "    for key in uchi_keys:\n",
    "        uchi_values = uchi_index.bucket[key]\n",
    "        if len(uchi_values)>1:\n",
    "            dups+=1\n",
    "        else:\n",
    "            uniques+=1\n",
    "    uchi_dups[k] = [dups, uniques, (dups/(dups+uniques))]\n",
    "\n",
    "    \n",
    "    stanford_keys = stanford_index.bucket.keys()\n",
    "    uniques = 0\n",
    "    dups = 0\n",
    "    for key in stanford_keys:\n",
    "        stanford_values = stanford_index.bucket[key]\n",
    "        if len(stanford_values)>1:\n",
    "            dups+=1 #len(stanford_values)\n",
    "        else:\n",
    "            uniques+=1\n",
    "    stanford_dups[k] = [dups, uniques, (dups/(dups+uniques))]\n",
    "    \n",
    "\n",
    "    cornell_keys = cornell_index.bucket.keys()\n",
    "    uniques = 0\n",
    "    dups = 0\n",
    "    for key in cornell_keys:\n",
    "        cornell_values = cornell_index.bucket[key]\n",
    "        if len(cornell_values)>1:\n",
    "            dups+=1\n",
    "        else:\n",
    "            uniques+=1\n",
    "    cornell_dups[k] = [dups, uniques, (dups/(dups+uniques))]\n",
    "    \n",
    "\n",
    "    cm_keys = cm_index.bucket.keys()\n",
    "    uniques = 0\n",
    "    dups = 0\n",
    "    for key in cm_keys:\n",
    "        cm_values = cm_index.bucket[key]\n",
    "        if len(cm_values)>1:\n",
    "            dups+=1\n",
    "        else:\n",
    "            uniques+=1\n",
    "    cm_dups[k] = [dups, uniques, (dups/(dups+uniques))]"
   ]
  },
  {
   "cell_type": "code",
   "execution_count": 18,
   "metadata": {},
   "outputs": [
    {
     "data": {
      "text/plain": [
       "{1: [942, 3984, 0.19123020706455543],\n",
       " 2: [1422, 5946, 0.19299674267100977],\n",
       " 3: [2027, 7578, 0.2110359187922957],\n",
       " 4: [3562, 6141, 0.3671029578480882],\n",
       " 5: [4253, 2632, 0.6177196804647785],\n",
       " 6: [3637, 326, 0.917739086550593],\n",
       " 7: [2042, 5, 0.9975574010747436],\n",
       " 8: [1280, 0, 1.0],\n",
       " 9: [1295, 207, 0.8621837549933422],\n",
       " 10: [897, 1681, 0.34794414274631497]}"
      ]
     },
     "execution_count": 18,
     "metadata": {},
     "output_type": "execute_result"
    }
   ],
   "source": [
    "uchi_dups"
   ]
  },
  {
   "cell_type": "code",
   "execution_count": 19,
   "metadata": {},
   "outputs": [
    {
     "data": {
      "text/plain": [
       "{1: [6899, 29058, 0.1918680646327558],\n",
       " 2: [10546, 42795, 0.19770907931984777],\n",
       " 3: [18803, 42740, 0.3055262174414637],\n",
       " 4: [19804, 11736, 0.6279010779961953],\n",
       " 5: [11024, 4693, 0.7014061207609594],\n",
       " 6: [4096, 0, 1.0],\n",
       " 7: [2048, 0, 1.0],\n",
       " 8: [1280, 0, 1.0],\n",
       " 9: [1600, 0, 1.0],\n",
       " 10: [6224, 4693, 0.5701199963359898]}"
      ]
     },
     "execution_count": 19,
     "metadata": {},
     "output_type": "execute_result"
    }
   ],
   "source": [
    "stanford_dups"
   ]
  },
  {
   "cell_type": "code",
   "execution_count": 20,
   "metadata": {},
   "outputs": [
    {
     "data": {
      "text/plain": [
       "{1: [391, 1700, 0.18699186991869918],\n",
       " 2: [588, 2533, 0.18840115347644987],\n",
       " 3: [820, 3264, 0.2007835455435847],\n",
       " 4: [1259, 3312, 0.2754320717567272],\n",
       " 5: [1861, 2264, 0.45115151515151514],\n",
       " 6: [2266, 956, 0.7032898820608318],\n",
       " 7: [1861, 135, 0.9323647294589178],\n",
       " 8: [1243, 29, 0.9772012578616353],\n",
       " 9: [914, 284, 0.7629382303839732],\n",
       " 10: [536, 774, 0.40916030534351144]}"
      ]
     },
     "execution_count": 20,
     "metadata": {},
     "output_type": "execute_result"
    }
   ],
   "source": [
    "cornell_dups"
   ]
  },
  {
   "cell_type": "code",
   "execution_count": 21,
   "metadata": {},
   "outputs": [
    {
     "data": {
      "text/plain": [
       "{1: [1100, 4129, 0.21036527060623447],\n",
       " 2: [1666, 6121, 0.21394632079106202],\n",
       " 3: [2363, 7701, 0.23479729729729729],\n",
       " 4: [3924, 6058, 0.3931075936686035],\n",
       " 5: [4472, 2545, 0.6373093914778395],\n",
       " 6: [3687, 283, 0.9287153652392948],\n",
       " 7: [2047, 1, 0.99951171875],\n",
       " 8: [1280, 0, 1.0],\n",
       " 9: [1324, 186, 0.8768211920529801],\n",
       " 10: [977, 1690, 0.36632920884889386]}"
      ]
     },
     "execution_count": 21,
     "metadata": {},
     "output_type": "execute_result"
    }
   ],
   "source": [
    "cm_dups"
   ]
  },
  {
   "cell_type": "markdown",
   "metadata": {},
   "source": [
    "**Using k=3 as the author states, we can plot the different duplicate tweet ratios per school.  For reference, we can also plot additonal k thresholds**"
   ]
  },
  {
   "cell_type": "code",
   "execution_count": 22,
   "metadata": {},
   "outputs": [],
   "source": [
    "sns.set_style('whitegrid')"
   ]
  },
  {
   "cell_type": "code",
   "execution_count": 23,
   "metadata": {},
   "outputs": [
    {
     "data": {
      "image/png": "[encoded data removed]",
      "text/plain": [
       "<Figure size 432x288 with 1 Axes>"
      ]
     },
     "metadata": {},
     "output_type": "display_data"
    }
   ],
   "source": [
    "sns.barplot(x=['cm', 'cornell', 'stanford', 'uchicago'], \n",
    "            y = [cm_dups[3][2], cornell_dups[3][2], stanford_dups[3][2], uchi_dups[3][2]], palette='Blues')\n",
    "plt.title('% of Duplicate Tweets (SimHash, k=3)');"
   ]
  },
  {
   "cell_type": "code",
   "execution_count": 24,
   "metadata": {},
   "outputs": [
    {
     "data": {
      "image/png": "[encoded data removed]",
      "text/plain": [
       "<Figure size 432x288 with 1 Axes>"
      ]
     },
     "metadata": {},
     "output_type": "display_data"
    }
   ],
   "source": [
    "sns.barplot(x=['cm', 'cornell', 'stanford', 'uchicago'], \n",
    "            y = [cm_dups[2][2], cornell_dups[2][2], stanford_dups[2][2], uchi_dups[2][2]], palette='Blues')\n",
    "plt.title('% of Duplicate Tweets (SimHash, k=2)');"
   ]
  },
  {
   "cell_type": "code",
   "execution_count": 25,
   "metadata": {},
   "outputs": [
    {
     "data": {
      "image/png": "[encoded data removed]",
      "text/plain": [
       "<Figure size 432x288 with 1 Axes>"
      ]
     },
     "metadata": {},
     "output_type": "display_data"
    }
   ],
   "source": [
    "sns.barplot(x=['cm', 'cornell', 'stanford', 'uchicago'], \n",
    "            y = [cm_dups[4][2], cornell_dups[4][2], stanford_dups[4][2], uchi_dups[4][2]], palette='Blues')\n",
    "plt.title('% of Duplicate Tweets (SimHash, k=4)');"
   ]
  },
  {
   "cell_type": "markdown",
   "metadata": {},
   "source": [
    "---"
   ]
  },
  {
   "cell_type": "markdown",
   "metadata": {},
   "source": [
    "## Variable Analysis"
   ]
  },
  {
   "cell_type": "markdown",
   "metadata": {},
   "source": [
    "**Filter variables dataframe by tweet_id's filtered for the selected keywords**"
   ]
  },
  {
   "cell_type": "code",
   "execution_count": null,
   "metadata": {},
   "outputs": [],
   "source": [
    "tweet_vars = pd.read_csv('tweet_variables.csv', error_bad_lines=False)"
   ]
  },
  {
   "cell_type": "code",
   "execution_count": 42,
   "metadata": {},
   "outputs": [],
   "source": [
    "# Headers from each csv file were included in the hadoop merge - remove these rows\n",
    "\n",
    "header_rows = tweet_vars.loc[(tweet_vars.tweet_id=='tweet_id'), 'tweet_id'].index\n",
    "tweet_vars = tweet_vars.drop(header_rows).drop_duplicates().reset_index(drop=True)"
   ]
  },
  {
   "cell_type": "code",
   "execution_count": 43,
   "metadata": {},
   "outputs": [
    {
     "name": "stdout",
     "output_type": "stream",
     "text": [
      "(3022169, 19)\n"
     ]
    },
    {
     "data": {
      "text/plain": [
       "[(0, 'tweet_id'),\n",
       " (1, 'tweet_dt'),\n",
       " (2, 'source'),\n",
       " (3, 'school'),\n",
       " (4, 'is_reply'),\n",
       " (5, 'favorite_count'),\n",
       " (6, 'retweet_count'),\n",
       " (7, 'user_created_at'),\n",
       " (8, 'user_favorites_count'),\n",
       " (9, 'user_followers_count'),\n",
       " (10, 'user_friends_count'),\n",
       " (11, 'user_id'),\n",
       " (12, 'user_location'),\n",
       " (13, 'user_lang'),\n",
       " (14, 'user_verified'),\n",
       " (15, 'is_quote'),\n",
       " (16, 'is_retweet'),\n",
       " (17, 'media'),\n",
       " (18, 'user_mentions')]"
      ]
     },
     "execution_count": 43,
     "metadata": {},
     "output_type": "execute_result"
    }
   ],
   "source": [
    "print(tweet_vars.shape)\n",
    "list(enumerate(tweet_vars.columns))"
   ]
  },
  {
   "cell_type": "code",
   "execution_count": 38,
   "metadata": {},
   "outputs": [
    {
     "data": {
      "text/html": [
       "<div>\n",
       "<style scoped>\n",
       "    .dataframe tbody tr th:only-of-type {\n",
       "        vertical-align: middle;\n",
       "    }\n",
       "\n",
       "    .dataframe tbody tr th {\n",
       "        vertical-align: top;\n",
       "    }\n",
       "\n",
       "    .dataframe thead th {\n",
       "        text-align: right;\n",
       "    }\n",
       "</style>\n",
       "<table border=\"1\" class=\"dataframe\">\n",
       "  <thead>\n",
       "    <tr style=\"text-align: right;\">\n",
       "      <th></th>\n",
       "      <th>tweet_id</th>\n",
       "      <th>tweet_dt</th>\n",
       "      <th>source</th>\n",
       "      <th>school</th>\n",
       "      <th>is_reply</th>\n",
       "      <th>favorite_count</th>\n",
       "      <th>retweet_count</th>\n",
       "      <th>user_created_at</th>\n",
       "      <th>user_favorites_count</th>\n",
       "      <th>user_followers_count</th>\n",
       "      <th>user_friends_count</th>\n",
       "      <th>user_id</th>\n",
       "      <th>user_location</th>\n",
       "      <th>user_lang</th>\n",
       "      <th>user_verified</th>\n",
       "      <th>is_quote</th>\n",
       "      <th>is_retweet</th>\n",
       "      <th>media</th>\n",
       "      <th>user_mentions</th>\n",
       "    </tr>\n",
       "  </thead>\n",
       "  <tbody>\n",
       "    <tr>\n",
       "      <th>0</th>\n",
       "      <td>878029276557131776</td>\n",
       "      <td>Thu Jun 22 23:17:47 +0000 2017</td>\n",
       "      <td>&lt;a href=\\http://twitter.com\\\" rel=\\\"nofollow\\\"...</td>\n",
       "      <td>stanford</td>\n",
       "      <td>0</td>\n",
       "      <td>0</td>\n",
       "      <td>0</td>\n",
       "      <td>Thu Feb 27 04:03:06 +0000 2014</td>\n",
       "      <td>693</td>\n",
       "      <td>875</td>\n",
       "      <td>1221</td>\n",
       "      <td>2363593488</td>\n",
       "      <td>Los Angeles, CA</td>\n",
       "      <td>en</td>\n",
       "      <td>0</td>\n",
       "      <td>0</td>\n",
       "      <td>0</td>\n",
       "      <td>0</td>\n",
       "      <td>1</td>\n",
       "    </tr>\n",
       "    <tr>\n",
       "      <th>1</th>\n",
       "      <td>878029303304208384</td>\n",
       "      <td>Thu Jun 22 23:17:53 +0000 2017</td>\n",
       "      <td>&lt;a href=\\http://twitter.com\\\" rel=\\\"nofollow\\\"...</td>\n",
       "      <td>stanford</td>\n",
       "      <td>0</td>\n",
       "      <td>0</td>\n",
       "      <td>0</td>\n",
       "      <td>Sat Mar 06 11:10:00 +0000 2010</td>\n",
       "      <td>5796</td>\n",
       "      <td>1047</td>\n",
       "      <td>1054</td>\n",
       "      <td>120418926</td>\n",
       "      <td>Uppsala, Sverige</td>\n",
       "      <td>sv</td>\n",
       "      <td>0</td>\n",
       "      <td>0</td>\n",
       "      <td>1</td>\n",
       "      <td>0</td>\n",
       "      <td>1</td>\n",
       "    </tr>\n",
       "  </tbody>\n",
       "</table>\n",
       "</div>"
      ],
      "text/plain": [
       "             tweet_id                        tweet_dt  \\\n",
       "0  878029276557131776  Thu Jun 22 23:17:47 +0000 2017   \n",
       "1  878029303304208384  Thu Jun 22 23:17:53 +0000 2017   \n",
       "\n",
       "                                              source    school is_reply  \\\n",
       "0  <a href=\\http://twitter.com\\\" rel=\\\"nofollow\\\"...  stanford        0   \n",
       "1  <a href=\\http://twitter.com\\\" rel=\\\"nofollow\\\"...  stanford        0   \n",
       "\n",
       "  favorite_count retweet_count                 user_created_at  \\\n",
       "0              0             0  Thu Feb 27 04:03:06 +0000 2014   \n",
       "1              0             0  Sat Mar 06 11:10:00 +0000 2010   \n",
       "\n",
       "  user_favorites_count user_followers_count user_friends_count     user_id  \\\n",
       "0                  693                  875               1221  2363593488   \n",
       "1                 5796                 1047               1054   120418926   \n",
       "\n",
       "      user_location user_lang user_verified is_quote is_retweet media  \\\n",
       "0   Los Angeles, CA        en             0        0          0     0   \n",
       "1  Uppsala, Sverige        sv             0        0          1     0   \n",
       "\n",
       "  user_mentions  \n",
       "0             1  \n",
       "1             1  "
      ]
     },
     "execution_count": 38,
     "metadata": {},
     "output_type": "execute_result"
    }
   ],
   "source": [
    "tweet_vars.head(2)"
   ]
  },
  {
   "cell_type": "code",
   "execution_count": 53,
   "metadata": {},
   "outputs": [],
   "source": [
    "# Set tweet_dt to proper datetime\n",
    "tweet_vars['tweet_dt'] = tweet_vars.tweet_dt.apply(lambda x: datetime.strptime(x, '%a %b %d %H:%M:%S %z %Y'))\n",
    "\n",
    "\n",
    "# Format source\n",
    "tweet_vars.loc[~tweet_vars.source.isna(), 'source'] = \\\n",
    "    tweet_vars.source.loc[~tweet_vars.source.isna()].apply(lambda x: str(x).split('</a>\"')[-2].split('>')[-1])\n",
    "\n",
    "\n",
    "# Set age of user account\n",
    "tweet_vars['user_created_at'] = tweet_vars.user_created_at.apply(lambda x: datetime.strptime(x, '%a %b %d %H:%M:%S %z %Y'))\n",
    "tweet_vars['user_created_at'] = tweet_vars.user_created_at.apply(lambda x: datetime.now().date() - x.date())\n",
    "tweet_vars['account_age'] = tweet_vars.user_created_at.apply(lambda x:x.days)\n",
    "tweet_vars.drop('user_created_at', axis=1, inplace=True)\n",
    "\n",
    "# Ensure following columns are int\n",
    "tweet_vars['tweet_id'] = tweet_vars.tweet_id.apply(lambda x: int(x))\n",
    "\n",
    "tweet_vars['user_favorites_count'] = tweet_vars.user_favorites_count.apply(lambda x: int(x))\n",
    "\n",
    "tweet_vars['user_followers_count'] = tweet_vars.user_followers_count.apply(lambda x: int(x))\n",
    "\n",
    "tweet_vars['user_friends_count'] = tweet_vars.user_friends_count.apply(lambda x: int(x))\n",
    "\n",
    "tweet_vars['user_id'] = tweet_vars.user_id.apply(lambda x: int(x))\n",
    "\n",
    "tweet_vars['user_verified'] = tweet_vars.user_verified.apply(lambda x: int(x))\n",
    "\n",
    "tweet_vars['is_quote'] = tweet_vars.is_quote.apply(lambda x: int(x))\n",
    "\n",
    "tweet_vars['is_reply'] = tweet_vars.is_reply.apply(lambda x: int(x))\n",
    "\n",
    "tweet_vars['is_retweet'] = tweet_vars.is_retweet.apply(lambda x: int(x))\n",
    "\n",
    "tweet_vars['media'] = tweet_vars.media.apply(lambda x: int(x))\n",
    "\n",
    "tweet_vars['user_mentions'] = tweet_vars.user_mentions.apply(lambda x: int(x))"
   ]
  },
  {
   "cell_type": "code",
   "execution_count": 54,
   "metadata": {},
   "outputs": [],
   "source": [
    "filter_ids = pd.concat([uchicago.tweet_id, stanford.tweet_id, cornell.tweet_id, cm.tweet_id], \n",
    "                       ignore_index=True).reset_index(drop=True)"
   ]
  },
  {
   "cell_type": "code",
   "execution_count": 57,
   "metadata": {},
   "outputs": [],
   "source": [
    "t_vars = pd.merge(filter_ids, tweet_vars, how='left', on='tweet_id')"
   ]
  },
  {
   "cell_type": "code",
   "execution_count": null,
   "metadata": {},
   "outputs": [],
   "source": []
  },
  {
   "cell_type": "code",
   "execution_count": 63,
   "metadata": {},
   "outputs": [],
   "source": [
    "pd.to_pickle(t_vars, os.path.join(os.getcwd(), 'Data', 't_vars.pkl'))"
   ]
  },
  {
   "cell_type": "code",
   "execution_count": 299,
   "metadata": {},
   "outputs": [],
   "source": [
    "tvars = pd.read_pickle(os.path.join('Data/t_vars.pkl'))"
   ]
  },
  {
   "cell_type": "code",
   "execution_count": 552,
   "metadata": {},
   "outputs": [
    {
     "data": {
      "text/html": [
       "<div>\n",
       "<style scoped>\n",
       "    .dataframe tbody tr th:only-of-type {\n",
       "        vertical-align: middle;\n",
       "    }\n",
       "\n",
       "    .dataframe tbody tr th {\n",
       "        vertical-align: top;\n",
       "    }\n",
       "\n",
       "    .dataframe thead th {\n",
       "        text-align: right;\n",
       "    }\n",
       "</style>\n",
       "<table border=\"1\" class=\"dataframe\">\n",
       "  <thead>\n",
       "    <tr style=\"text-align: right;\">\n",
       "      <th></th>\n",
       "      <th>tweet_id</th>\n",
       "      <th>tweet_dt</th>\n",
       "      <th>source</th>\n",
       "      <th>school</th>\n",
       "      <th>is_reply</th>\n",
       "      <th>user_favorites_count</th>\n",
       "      <th>user_followers_count</th>\n",
       "      <th>user_friends_count</th>\n",
       "      <th>user_id</th>\n",
       "      <th>user_location</th>\n",
       "      <th>user_lang</th>\n",
       "      <th>user_verified</th>\n",
       "      <th>is_quote</th>\n",
       "      <th>is_retweet</th>\n",
       "      <th>media</th>\n",
       "      <th>user_mentions</th>\n",
       "      <th>account_age</th>\n",
       "      <th>tweets_dt</th>\n",
       "    </tr>\n",
       "  </thead>\n",
       "  <tbody>\n",
       "    <tr>\n",
       "      <th>0</th>\n",
       "      <td>904792792899219458</td>\n",
       "      <td>2017-09-04</td>\n",
       "      <td>Twitter Web Client</td>\n",
       "      <td>uchicago</td>\n",
       "      <td>0.0</td>\n",
       "      <td>323.0</td>\n",
       "      <td>128.0</td>\n",
       "      <td>147.0</td>\n",
       "      <td>7.225224e+17</td>\n",
       "      <td>Chicago, IL</td>\n",
       "      <td>en</td>\n",
       "      <td>0.0</td>\n",
       "      <td>0.0</td>\n",
       "      <td>0.0</td>\n",
       "      <td>0.0</td>\n",
       "      <td>1.0</td>\n",
       "      <td>1788.0</td>\n",
       "      <td>2017-09-04</td>\n",
       "    </tr>\n",
       "    <tr>\n",
       "      <th>1</th>\n",
       "      <td>904839005493235712</td>\n",
       "      <td>2017-09-04</td>\n",
       "      <td>Hootsuite</td>\n",
       "      <td>uchicago</td>\n",
       "      <td>0.0</td>\n",
       "      <td>1804.0</td>\n",
       "      <td>10464.0</td>\n",
       "      <td>11267.0</td>\n",
       "      <td>2.404736e+08</td>\n",
       "      <td>0</td>\n",
       "      <td>en</td>\n",
       "      <td>0.0</td>\n",
       "      <td>0.0</td>\n",
       "      <td>0.0</td>\n",
       "      <td>0.0</td>\n",
       "      <td>1.0</td>\n",
       "      <td>3704.0</td>\n",
       "      <td>2017-09-04</td>\n",
       "    </tr>\n",
       "    <tr>\n",
       "      <th>2</th>\n",
       "      <td>904848531818778624</td>\n",
       "      <td>2017-09-04</td>\n",
       "      <td>Twitter for Android</td>\n",
       "      <td>uchicago</td>\n",
       "      <td>0.0</td>\n",
       "      <td>86.0</td>\n",
       "      <td>47.0</td>\n",
       "      <td>21.0</td>\n",
       "      <td>1.592287e+08</td>\n",
       "      <td>Chicago, IL</td>\n",
       "      <td>en</td>\n",
       "      <td>0.0</td>\n",
       "      <td>0.0</td>\n",
       "      <td>1.0</td>\n",
       "      <td>0.0</td>\n",
       "      <td>1.0</td>\n",
       "      <td>3914.0</td>\n",
       "      <td>2017-09-04</td>\n",
       "    </tr>\n",
       "    <tr>\n",
       "      <th>3</th>\n",
       "      <td>904848794742902785</td>\n",
       "      <td>2017-09-04</td>\n",
       "      <td>Retweeter Innovation</td>\n",
       "      <td>uchicago</td>\n",
       "      <td>0.0</td>\n",
       "      <td>0.0</td>\n",
       "      <td>3671.0</td>\n",
       "      <td>3.0</td>\n",
       "      <td>8.014190e+17</td>\n",
       "      <td>Brussels, Belgium</td>\n",
       "      <td>en</td>\n",
       "      <td>0.0</td>\n",
       "      <td>0.0</td>\n",
       "      <td>1.0</td>\n",
       "      <td>0.0</td>\n",
       "      <td>1.0</td>\n",
       "      <td>1570.0</td>\n",
       "      <td>2017-09-04</td>\n",
       "    </tr>\n",
       "    <tr>\n",
       "      <th>4</th>\n",
       "      <td>928690581747961856</td>\n",
       "      <td>2017-11-09</td>\n",
       "      <td>Dub.io</td>\n",
       "      <td>uchicago</td>\n",
       "      <td>0.0</td>\n",
       "      <td>12.0</td>\n",
       "      <td>1373.0</td>\n",
       "      <td>4981.0</td>\n",
       "      <td>8.600066e+17</td>\n",
       "      <td>0</td>\n",
       "      <td>en</td>\n",
       "      <td>0.0</td>\n",
       "      <td>0.0</td>\n",
       "      <td>0.0</td>\n",
       "      <td>1.0</td>\n",
       "      <td>1.0</td>\n",
       "      <td>1408.0</td>\n",
       "      <td>2017-11-09</td>\n",
       "    </tr>\n",
       "  </tbody>\n",
       "</table>\n",
       "</div>"
      ],
      "text/plain": [
       "             tweet_id    tweet_dt                source    school  is_reply  \\\n",
       "0  904792792899219458  2017-09-04    Twitter Web Client  uchicago       0.0   \n",
       "1  904839005493235712  2017-09-04             Hootsuite  uchicago       0.0   \n",
       "2  904848531818778624  2017-09-04   Twitter for Android  uchicago       0.0   \n",
       "3  904848794742902785  2017-09-04  Retweeter Innovation  uchicago       0.0   \n",
       "4  928690581747961856  2017-11-09                Dub.io  uchicago       0.0   \n",
       "\n",
       "   user_favorites_count  user_followers_count  user_friends_count  \\\n",
       "0                 323.0                 128.0               147.0   \n",
       "1                1804.0               10464.0             11267.0   \n",
       "2                  86.0                  47.0                21.0   \n",
       "3                   0.0                3671.0                 3.0   \n",
       "4                  12.0                1373.0              4981.0   \n",
       "\n",
       "        user_id      user_location user_lang  user_verified  is_quote  \\\n",
       "0  7.225224e+17        Chicago, IL        en            0.0       0.0   \n",
       "1  2.404736e+08                  0        en            0.0       0.0   \n",
       "2  1.592287e+08        Chicago, IL        en            0.0       0.0   \n",
       "3  8.014190e+17  Brussels, Belgium        en            0.0       0.0   \n",
       "4  8.600066e+17                  0        en            0.0       0.0   \n",
       "\n",
       "   is_retweet  media  user_mentions  account_age   tweets_dt  \n",
       "0         0.0    0.0            1.0       1788.0  2017-09-04  \n",
       "1         0.0    0.0            1.0       3704.0  2017-09-04  \n",
       "2         1.0    0.0            1.0       3914.0  2017-09-04  \n",
       "3         1.0    0.0            1.0       1570.0  2017-09-04  \n",
       "4         0.0    1.0            1.0       1408.0  2017-11-09  "
      ]
     },
     "execution_count": 552,
     "metadata": {},
     "output_type": "execute_result"
    }
   ],
   "source": [
    "tvars.fillna(0, inplace=True)\n",
    "tvars.head()"
   ]
  },
  {
   "cell_type": "code",
   "execution_count": 14,
   "metadata": {},
   "outputs": [
    {
     "data": {
      "text/html": [
       "<div>\n",
       "<style scoped>\n",
       "    .dataframe tbody tr th:only-of-type {\n",
       "        vertical-align: middle;\n",
       "    }\n",
       "\n",
       "    .dataframe tbody tr th {\n",
       "        vertical-align: top;\n",
       "    }\n",
       "\n",
       "    .dataframe thead th {\n",
       "        text-align: right;\n",
       "    }\n",
       "</style>\n",
       "<table border=\"1\" class=\"dataframe\">\n",
       "  <thead>\n",
       "    <tr style=\"text-align: right;\">\n",
       "      <th></th>\n",
       "      <th>is_reply</th>\n",
       "      <th>user_favorites_count</th>\n",
       "      <th>user_followers_count</th>\n",
       "      <th>user_friends_count</th>\n",
       "      <th>user_id</th>\n",
       "      <th>user_verified</th>\n",
       "      <th>is_quote</th>\n",
       "      <th>is_retweet</th>\n",
       "      <th>media</th>\n",
       "      <th>user_mentions</th>\n",
       "      <th>account_age</th>\n",
       "    </tr>\n",
       "  </thead>\n",
       "  <tbody>\n",
       "    <tr>\n",
       "      <th>count</th>\n",
       "      <td>61091.000000</td>\n",
       "      <td>61091.000000</td>\n",
       "      <td>6.109100e+04</td>\n",
       "      <td>61091.000000</td>\n",
       "      <td>6.109100e+04</td>\n",
       "      <td>61091.000000</td>\n",
       "      <td>61091.000000</td>\n",
       "      <td>61091.000000</td>\n",
       "      <td>61091.000000</td>\n",
       "      <td>61091.0</td>\n",
       "      <td>61091.000000</td>\n",
       "    </tr>\n",
       "    <tr>\n",
       "      <th>mean</th>\n",
       "      <td>0.048992</td>\n",
       "      <td>11824.639849</td>\n",
       "      <td>9.777055e+03</td>\n",
       "      <td>3220.197983</td>\n",
       "      <td>3.588303e+17</td>\n",
       "      <td>0.027042</td>\n",
       "      <td>0.047765</td>\n",
       "      <td>0.585307</td>\n",
       "      <td>0.021460</td>\n",
       "      <td>1.0</td>\n",
       "      <td>2575.769622</td>\n",
       "    </tr>\n",
       "    <tr>\n",
       "      <th>std</th>\n",
       "      <td>0.215854</td>\n",
       "      <td>39842.237392</td>\n",
       "      <td>2.161116e+05</td>\n",
       "      <td>14898.457346</td>\n",
       "      <td>4.733743e+17</td>\n",
       "      <td>0.162206</td>\n",
       "      <td>0.213270</td>\n",
       "      <td>0.492673</td>\n",
       "      <td>0.144912</td>\n",
       "      <td>0.0</td>\n",
       "      <td>1337.221659</td>\n",
       "    </tr>\n",
       "    <tr>\n",
       "      <th>min</th>\n",
       "      <td>0.000000</td>\n",
       "      <td>0.000000</td>\n",
       "      <td>0.000000e+00</td>\n",
       "      <td>0.000000</td>\n",
       "      <td>8.850000e+02</td>\n",
       "      <td>0.000000</td>\n",
       "      <td>0.000000</td>\n",
       "      <td>0.000000</td>\n",
       "      <td>0.000000</td>\n",
       "      <td>1.0</td>\n",
       "      <td>10.000000</td>\n",
       "    </tr>\n",
       "    <tr>\n",
       "      <th>25%</th>\n",
       "      <td>0.000000</td>\n",
       "      <td>111.000000</td>\n",
       "      <td>1.600000e+02</td>\n",
       "      <td>143.000000</td>\n",
       "      <td>1.953646e+08</td>\n",
       "      <td>0.000000</td>\n",
       "      <td>0.000000</td>\n",
       "      <td>0.000000</td>\n",
       "      <td>0.000000</td>\n",
       "      <td>1.0</td>\n",
       "      <td>1375.000000</td>\n",
       "    </tr>\n",
       "    <tr>\n",
       "      <th>50%</th>\n",
       "      <td>0.000000</td>\n",
       "      <td>1010.000000</td>\n",
       "      <td>7.310000e+02</td>\n",
       "      <td>528.000000</td>\n",
       "      <td>2.527844e+09</td>\n",
       "      <td>0.000000</td>\n",
       "      <td>0.000000</td>\n",
       "      <td>1.000000</td>\n",
       "      <td>0.000000</td>\n",
       "      <td>1.0</td>\n",
       "      <td>2482.000000</td>\n",
       "    </tr>\n",
       "    <tr>\n",
       "      <th>75%</th>\n",
       "      <td>0.000000</td>\n",
       "      <td>5933.500000</td>\n",
       "      <td>3.160500e+03</td>\n",
       "      <td>2029.000000</td>\n",
       "      <td>8.721446e+17</td>\n",
       "      <td>0.000000</td>\n",
       "      <td>0.000000</td>\n",
       "      <td>1.000000</td>\n",
       "      <td>0.000000</td>\n",
       "      <td>1.0</td>\n",
       "      <td>3820.000000</td>\n",
       "    </tr>\n",
       "    <tr>\n",
       "      <th>max</th>\n",
       "      <td>1.000000</td>\n",
       "      <td>989233.000000</td>\n",
       "      <td>4.706463e+07</td>\n",
       "      <td>790419.000000</td>\n",
       "      <td>1.366764e+18</td>\n",
       "      <td>1.000000</td>\n",
       "      <td>1.000000</td>\n",
       "      <td>1.000000</td>\n",
       "      <td>1.000000</td>\n",
       "      <td>1.0</td>\n",
       "      <td>5355.000000</td>\n",
       "    </tr>\n",
       "  </tbody>\n",
       "</table>\n",
       "</div>"
      ],
      "text/plain": [
       "           is_reply  user_favorites_count  user_followers_count  \\\n",
       "count  61091.000000          61091.000000          6.109100e+04   \n",
       "mean       0.048992          11824.639849          9.777055e+03   \n",
       "std        0.215854          39842.237392          2.161116e+05   \n",
       "min        0.000000              0.000000          0.000000e+00   \n",
       "25%        0.000000            111.000000          1.600000e+02   \n",
       "50%        0.000000           1010.000000          7.310000e+02   \n",
       "75%        0.000000           5933.500000          3.160500e+03   \n",
       "max        1.000000         989233.000000          4.706463e+07   \n",
       "\n",
       "       user_friends_count       user_id  user_verified      is_quote  \\\n",
       "count        61091.000000  6.109100e+04   61091.000000  61091.000000   \n",
       "mean          3220.197983  3.588303e+17       0.027042      0.047765   \n",
       "std          14898.457346  4.733743e+17       0.162206      0.213270   \n",
       "min              0.000000  8.850000e+02       0.000000      0.000000   \n",
       "25%            143.000000  1.953646e+08       0.000000      0.000000   \n",
       "50%            528.000000  2.527844e+09       0.000000      0.000000   \n",
       "75%           2029.000000  8.721446e+17       0.000000      0.000000   \n",
       "max         790419.000000  1.366764e+18       1.000000      1.000000   \n",
       "\n",
       "         is_retweet         media  user_mentions   account_age  \n",
       "count  61091.000000  61091.000000        61091.0  61091.000000  \n",
       "mean       0.585307      0.021460            1.0   2575.769622  \n",
       "std        0.492673      0.144912            0.0   1337.221659  \n",
       "min        0.000000      0.000000            1.0     10.000000  \n",
       "25%        0.000000      0.000000            1.0   1375.000000  \n",
       "50%        1.000000      0.000000            1.0   2482.000000  \n",
       "75%        1.000000      0.000000            1.0   3820.000000  \n",
       "max        1.000000      1.000000            1.0   5355.000000  "
      ]
     },
     "execution_count": 14,
     "metadata": {},
     "output_type": "execute_result"
    }
   ],
   "source": [
    "tvars.describe()"
   ]
  },
  {
   "cell_type": "code",
   "execution_count": 20,
   "metadata": {},
   "outputs": [
    {
     "data": {
      "text/plain": [
       "array(['0', nan], dtype=object)"
      ]
     },
     "execution_count": 20,
     "metadata": {},
     "output_type": "execute_result"
    }
   ],
   "source": [
    "tvars.favorite_count.unique()"
   ]
  },
  {
   "cell_type": "code",
   "execution_count": 21,
   "metadata": {},
   "outputs": [
    {
     "data": {
      "text/plain": [
       "array(['0', nan], dtype=object)"
      ]
     },
     "execution_count": 21,
     "metadata": {},
     "output_type": "execute_result"
    }
   ],
   "source": [
    "tvars.retweet_count.unique()"
   ]
  },
  {
   "cell_type": "code",
   "execution_count": 301,
   "metadata": {},
   "outputs": [],
   "source": [
    "tvars = tvars.drop(columns=['favorite_count', 'retweet_count'])"
   ]
  },
  {
   "cell_type": "code",
   "execution_count": 25,
   "metadata": {},
   "outputs": [
    {
     "data": {
      "text/html": [
       "<div>\n",
       "<style scoped>\n",
       "    .dataframe tbody tr th:only-of-type {\n",
       "        vertical-align: middle;\n",
       "    }\n",
       "\n",
       "    .dataframe tbody tr th {\n",
       "        vertical-align: top;\n",
       "    }\n",
       "\n",
       "    .dataframe thead th {\n",
       "        text-align: right;\n",
       "    }\n",
       "</style>\n",
       "<table border=\"1\" class=\"dataframe\">\n",
       "  <thead>\n",
       "    <tr style=\"text-align: right;\">\n",
       "      <th></th>\n",
       "      <th>tweet_id</th>\n",
       "      <th>tweet_dt</th>\n",
       "      <th>source</th>\n",
       "      <th>school</th>\n",
       "      <th>is_reply</th>\n",
       "      <th>user_favorites_count</th>\n",
       "      <th>user_followers_count</th>\n",
       "      <th>user_friends_count</th>\n",
       "      <th>user_id</th>\n",
       "      <th>user_location</th>\n",
       "      <th>user_lang</th>\n",
       "      <th>user_verified</th>\n",
       "      <th>is_quote</th>\n",
       "      <th>is_retweet</th>\n",
       "      <th>media</th>\n",
       "      <th>user_mentions</th>\n",
       "      <th>account_age</th>\n",
       "    </tr>\n",
       "  </thead>\n",
       "  <tbody>\n",
       "    <tr>\n",
       "      <th>0</th>\n",
       "      <td>904792792899219458</td>\n",
       "      <td>2017-09-04 19:46:26+00:00</td>\n",
       "      <td>Twitter Web Client</td>\n",
       "      <td>uchicago</td>\n",
       "      <td>0.0</td>\n",
       "      <td>323.0</td>\n",
       "      <td>128.0</td>\n",
       "      <td>147.0</td>\n",
       "      <td>7.225224e+17</td>\n",
       "      <td>Chicago, IL</td>\n",
       "      <td>en</td>\n",
       "      <td>0.0</td>\n",
       "      <td>0.0</td>\n",
       "      <td>0.0</td>\n",
       "      <td>0.0</td>\n",
       "      <td>1.0</td>\n",
       "      <td>1788.0</td>\n",
       "    </tr>\n",
       "    <tr>\n",
       "      <th>1</th>\n",
       "      <td>904839005493235712</td>\n",
       "      <td>2017-09-04 22:50:04+00:00</td>\n",
       "      <td>Hootsuite</td>\n",
       "      <td>uchicago</td>\n",
       "      <td>0.0</td>\n",
       "      <td>1804.0</td>\n",
       "      <td>10464.0</td>\n",
       "      <td>11267.0</td>\n",
       "      <td>2.404736e+08</td>\n",
       "      <td>NaN</td>\n",
       "      <td>en</td>\n",
       "      <td>0.0</td>\n",
       "      <td>0.0</td>\n",
       "      <td>0.0</td>\n",
       "      <td>0.0</td>\n",
       "      <td>1.0</td>\n",
       "      <td>3704.0</td>\n",
       "    </tr>\n",
       "    <tr>\n",
       "      <th>2</th>\n",
       "      <td>904848531818778624</td>\n",
       "      <td>2017-09-04 23:27:55+00:00</td>\n",
       "      <td>Twitter for Android</td>\n",
       "      <td>uchicago</td>\n",
       "      <td>0.0</td>\n",
       "      <td>86.0</td>\n",
       "      <td>47.0</td>\n",
       "      <td>21.0</td>\n",
       "      <td>1.592287e+08</td>\n",
       "      <td>Chicago, IL</td>\n",
       "      <td>en</td>\n",
       "      <td>0.0</td>\n",
       "      <td>0.0</td>\n",
       "      <td>1.0</td>\n",
       "      <td>0.0</td>\n",
       "      <td>1.0</td>\n",
       "      <td>3914.0</td>\n",
       "    </tr>\n",
       "    <tr>\n",
       "      <th>3</th>\n",
       "      <td>904848794742902785</td>\n",
       "      <td>2017-09-04 23:28:58+00:00</td>\n",
       "      <td>Retweeter Innovation</td>\n",
       "      <td>uchicago</td>\n",
       "      <td>0.0</td>\n",
       "      <td>0.0</td>\n",
       "      <td>3671.0</td>\n",
       "      <td>3.0</td>\n",
       "      <td>8.014190e+17</td>\n",
       "      <td>Brussels, Belgium</td>\n",
       "      <td>en</td>\n",
       "      <td>0.0</td>\n",
       "      <td>0.0</td>\n",
       "      <td>1.0</td>\n",
       "      <td>0.0</td>\n",
       "      <td>1.0</td>\n",
       "      <td>1570.0</td>\n",
       "    </tr>\n",
       "    <tr>\n",
       "      <th>4</th>\n",
       "      <td>928690581747961856</td>\n",
       "      <td>2017-11-09 18:27:43+00:00</td>\n",
       "      <td>Dub.io</td>\n",
       "      <td>uchicago</td>\n",
       "      <td>0.0</td>\n",
       "      <td>12.0</td>\n",
       "      <td>1373.0</td>\n",
       "      <td>4981.0</td>\n",
       "      <td>8.600066e+17</td>\n",
       "      <td>NaN</td>\n",
       "      <td>en</td>\n",
       "      <td>0.0</td>\n",
       "      <td>0.0</td>\n",
       "      <td>0.0</td>\n",
       "      <td>1.0</td>\n",
       "      <td>1.0</td>\n",
       "      <td>1408.0</td>\n",
       "    </tr>\n",
       "  </tbody>\n",
       "</table>\n",
       "</div>"
      ],
      "text/plain": [
       "             tweet_id                  tweet_dt                source  \\\n",
       "0  904792792899219458 2017-09-04 19:46:26+00:00    Twitter Web Client   \n",
       "1  904839005493235712 2017-09-04 22:50:04+00:00             Hootsuite   \n",
       "2  904848531818778624 2017-09-04 23:27:55+00:00   Twitter for Android   \n",
       "3  904848794742902785 2017-09-04 23:28:58+00:00  Retweeter Innovation   \n",
       "4  928690581747961856 2017-11-09 18:27:43+00:00                Dub.io   \n",
       "\n",
       "     school  is_reply  user_favorites_count  user_followers_count  \\\n",
       "0  uchicago       0.0                 323.0                 128.0   \n",
       "1  uchicago       0.0                1804.0               10464.0   \n",
       "2  uchicago       0.0                  86.0                  47.0   \n",
       "3  uchicago       0.0                   0.0                3671.0   \n",
       "4  uchicago       0.0                  12.0                1373.0   \n",
       "\n",
       "   user_friends_count       user_id      user_location user_lang  \\\n",
       "0               147.0  7.225224e+17        Chicago, IL        en   \n",
       "1             11267.0  2.404736e+08                NaN        en   \n",
       "2                21.0  1.592287e+08        Chicago, IL        en   \n",
       "3                 3.0  8.014190e+17  Brussels, Belgium        en   \n",
       "4              4981.0  8.600066e+17                NaN        en   \n",
       "\n",
       "   user_verified  is_quote  is_retweet  media  user_mentions  account_age  \n",
       "0            0.0       0.0         0.0    0.0            1.0       1788.0  \n",
       "1            0.0       0.0         0.0    0.0            1.0       3704.0  \n",
       "2            0.0       0.0         1.0    0.0            1.0       3914.0  \n",
       "3            0.0       0.0         1.0    0.0            1.0       1570.0  \n",
       "4            0.0       0.0         0.0    1.0            1.0       1408.0  "
      ]
     },
     "execution_count": 25,
     "metadata": {},
     "output_type": "execute_result"
    }
   ],
   "source": [
    "tvars.head()"
   ]
  },
  {
   "cell_type": "code",
   "execution_count": 26,
   "metadata": {},
   "outputs": [
    {
     "data": {
      "text/plain": [
       "0                 tweet_id\n",
       "1                 tweet_dt\n",
       "2                   source\n",
       "3                   school\n",
       "4                 is_reply\n",
       "5     user_favorites_count\n",
       "6     user_followers_count\n",
       "7       user_friends_count\n",
       "8                  user_id\n",
       "9            user_location\n",
       "10               user_lang\n",
       "11           user_verified\n",
       "12                is_quote\n",
       "13              is_retweet\n",
       "14                   media\n",
       "15           user_mentions\n",
       "16             account_age\n",
       "dtype: object"
      ]
     },
     "execution_count": 26,
     "metadata": {},
     "output_type": "execute_result"
    }
   ],
   "source": [
    "pd.Series(tvars.columns)"
   ]
  },
  {
   "cell_type": "code",
   "execution_count": 405,
   "metadata": {},
   "outputs": [],
   "source": [
    "sns.set_style('whitegrid')"
   ]
  },
  {
   "cell_type": "code",
   "execution_count": 393,
   "metadata": {},
   "outputs": [
    {
     "data": {
      "image/png": "[encoded data removed]",
      "text/plain": [
       "<Figure size 288x216 with 1 Axes>"
      ]
     },
     "metadata": {},
     "output_type": "display_data"
    }
   ],
   "source": [
    "plt.figure(figsize=(4,3))\n",
    "z = tvars.groupby('school').tweet_id.count()\n",
    "z.index.name=''\n",
    "plot = sns.barplot(x = z.index, y = z.values, palette='Blues', )\n",
    "for i in range(len(z)):\n",
    "    plot.text(i-.25, z[i]+1000, ''.join([str(np.round((z[i]/(len(tvars)))*100,1)), '%']))\n",
    "plt.ylim(0,60000)\n",
    "plt.title('Tweet Count By School')\n",
    "plt.show();"
   ]
  },
  {
   "cell_type": "code",
   "execution_count": 392,
   "metadata": {},
   "outputs": [
    {
     "data": {
      "image/png": "[encoded data removed]",
      "text/plain": [
       "<Figure size 288x216 with 1 Axes>"
      ]
     },
     "metadata": {},
     "output_type": "display_data"
    }
   ],
   "source": [
    "plt.figure(figsize=(4,3))\n",
    "z = tvars.groupby('school').user_followers_count.sum().round()\n",
    "z.index.name=''\n",
    "plot = sns.barplot(x = z.index, y = z.values, palette='Blues', )\n",
    "for i in range(len(z)):\n",
    "    plot.text(i-.25, z[i]+1e7, ''.join([str(np.round((z[i]/tvars.user_followers_count.sum())*100,1)), '%']))\n",
    "plt.ylim(0, 5e8, )\n",
    "plt.title('Followers Count By School')\n",
    "plt.show();"
   ]
  },
  {
   "cell_type": "code",
   "execution_count": 391,
   "metadata": {},
   "outputs": [
    {
     "data": {
      "image/png": "[encoded data removed]",
      "text/plain": [
       "<Figure size 288x216 with 1 Axes>"
      ]
     },
     "metadata": {},
     "output_type": "display_data"
    }
   ],
   "source": [
    "plt.figure(figsize=(4,3))\n",
    "z = tvars.groupby('school').user_friends_count.sum().round()\n",
    "z.index.name=''\n",
    "plot = sns.barplot(x = z.index, y = z.values, palette='Blues', )\n",
    "for i in range(len(z)):\n",
    "    plot.text(i-.25, z[i]+.5e7, ''.join([str(np.round((z[i]/tvars.user_friends_count.sum())*100,1)), '%']))\n",
    "plt.ylim(0, 2e8)\n",
    "plt.title('Friends Count By School')\n",
    "plt.show();"
   ]
  },
  {
   "cell_type": "code",
   "execution_count": 390,
   "metadata": {},
   "outputs": [
    {
     "data": {
      "image/png": "[encoded data removed]",
      "text/plain": [
       "<Figure size 288x216 with 1 Axes>"
      ]
     },
     "metadata": {},
     "output_type": "display_data"
    }
   ],
   "source": [
    "plt.figure(figsize=(4,3))\n",
    "z = tvars.groupby('school').user_favorites_count.sum().round()\n",
    "z.index.name=''\n",
    "plot = sns.barplot(x = z.index, y = z.values, palette='Blues', )\n",
    "for i in range(len(z)):\n",
    "    plot.text(i-.25, z[i]+.25e8, ''.join([str(np.round((z[i]/tvars.user_favorites_count.sum())*100,1)), '%']))\n",
    "plt.ylim(0, 7e8)\n",
    "plt.title('Favorites Count By School')\n",
    "plt.show();"
   ]
  },
  {
   "cell_type": "code",
   "execution_count": 389,
   "metadata": {},
   "outputs": [
    {
     "data": {
      "image/png": "[encoded data removed]",
      "text/plain": [
       "<Figure size 288x216 with 1 Axes>"
      ]
     },
     "metadata": {},
     "output_type": "display_data"
    }
   ],
   "source": [
    "plt.figure(figsize=(4,3))\n",
    "z = tvars.groupby('school').user_verified.sum().round()\n",
    "z.index.name=''\n",
    "plot = sns.barplot(x = z.index, y = z.values, palette='Blues', )\n",
    "for i in range(len(z)):\n",
    "    plot.text(i-.25, z[i]+75, ''.join([str(np.round((z[i]/tvars.user_verified.sum())*100,1)), '%']))\n",
    "plt.ylim(0, 1600)\n",
    "plt.title('Verified Users By School')\n",
    "plt.show();"
   ]
  },
  {
   "cell_type": "code",
   "execution_count": 388,
   "metadata": {},
   "outputs": [
    {
     "data": {
      "image/png": "[encoded data removed]",
      "text/plain": [
       "<Figure size 288x216 with 1 Axes>"
      ]
     },
     "metadata": {},
     "output_type": "display_data"
    }
   ],
   "source": [
    "plt.figure(figsize=(4,3))\n",
    "z = tvars.groupby('school').is_quote.sum().round()\n",
    "z.index.name=''\n",
    "plot = sns.barplot(x = z.index, y = z.values, palette='Blues', )\n",
    "for i in range(len(z)):\n",
    "    plot.text(i-.25, z[i]+75, ''.join([str(np.round((z[i]/tvars.is_quote.sum())*100,1)), '%']))\n",
    "plt.ylim(0, 2600)\n",
    "plt.title('Quote Tweets By School')\n",
    "plt.show();"
   ]
  },
  {
   "cell_type": "code",
   "execution_count": 387,
   "metadata": {},
   "outputs": [
    {
     "data": {
      "image/png": "[encoded data removed]",
      "text/plain": [
       "<Figure size 288x216 with 1 Axes>"
      ]
     },
     "metadata": {},
     "output_type": "display_data"
    }
   ],
   "source": [
    "plt.figure(figsize=(4,3))\n",
    "z = tvars.groupby('school').is_retweet.sum().round()\n",
    "z.index.name=''\n",
    "plot = sns.barplot(x = z.index, y = z.values, palette='Blues', )\n",
    "for i in range(len(z)):\n",
    "    plot.text(i-.25, z[i]+1000, ''.join([str(np.round((z[i]/tvars.is_retweet.sum())*100,1)), '%']))\n",
    "plt.ylim(0, 35000)\n",
    "plt.title('Retweets By School')\n",
    "plt.show();"
   ]
  },
  {
   "cell_type": "code",
   "execution_count": 379,
   "metadata": {},
   "outputs": [
    {
     "data": {
      "text/plain": [
       "\n",
       "cm           2942.0\n",
       "cornell      1137.0\n",
       "stanford    29624.0\n",
       "uchicago     2054.0\n",
       "Name: is_retweet, dtype: float64"
      ]
     },
     "execution_count": 379,
     "metadata": {},
     "output_type": "execute_result"
    }
   ],
   "source": [
    "is_retweet = tvars.groupby('school').is_retweet.sum().round()\n",
    "is_retweet.index.name=''\n",
    "is_retweet"
   ]
  },
  {
   "cell_type": "code",
   "execution_count": 377,
   "metadata": {},
   "outputs": [
    {
     "data": {
      "text/plain": [
       "\n",
       "cm           166.0\n",
       "cornell       90.0\n",
       "stanford    2347.0\n",
       "uchicago     315.0\n",
       "Name: is_quote, dtype: float64"
      ]
     },
     "execution_count": 377,
     "metadata": {},
     "output_type": "execute_result"
    }
   ],
   "source": [
    "is_quote = tvars.groupby('school').is_quote.sum().round()\n",
    "is_quote.index.name=''\n",
    "is_quote"
   ]
  },
  {
   "cell_type": "code",
   "execution_count": 383,
   "metadata": {},
   "outputs": [],
   "source": [
    "pcnt_quote_retweet = (is_quote+is_retweet)/tvars.groupby('school').tweet_id.count()"
   ]
  },
  {
   "cell_type": "code",
   "execution_count": 386,
   "metadata": {},
   "outputs": [
    {
     "data": {
      "image/png": "[encoded data removed]",
      "text/plain": [
       "<Figure size 288x216 with 1 Axes>"
      ]
     },
     "metadata": {},
     "output_type": "display_data"
    }
   ],
   "source": [
    "plt.figure(figsize=(4,3))\n",
    "plot = sns.barplot(x = pcnt_quote_retweet.index, \n",
    "                   y = pcnt_quote_retweet.values, palette='Blues')\n",
    "\n",
    "plt.title('Retweets/Quotes as % of Total By School ')\n",
    "plt.show();"
   ]
  },
  {
   "cell_type": "code",
   "execution_count": 394,
   "metadata": {},
   "outputs": [
    {
     "data": {
      "image/png": "[encoded data removed]",
      "text/plain": [
       "<Figure size 288x216 with 1 Axes>"
      ]
     },
     "metadata": {},
     "output_type": "display_data"
    }
   ],
   "source": [
    "plt.figure(figsize=(4,3))\n",
    "z = tvars.groupby('school').account_age.mean().round()\n",
    "z.index.name=''\n",
    "plot = sns.barplot(x = z.index, y = z.values, palette='Blues', )\n",
    "\n",
    "plt.title('Mean Account Age By School (Days)')\n",
    "plt.show(plot);"
   ]
  },
  {
   "cell_type": "code",
   "execution_count": 502,
   "metadata": {},
   "outputs": [
    {
     "data": {
      "text/plain": [
       "array([ 4129,  1678, 27401,  2469], dtype=int64)"
      ]
     },
     "execution_count": 502,
     "metadata": {},
     "output_type": "execute_result"
    }
   ],
   "source": [
    "z.tweet_id.values"
   ]
  },
  {
   "cell_type": "code",
   "execution_count": 503,
   "metadata": {},
   "outputs": [
    {
     "data": {
      "image/png": "[encoded data removed]",
      "text/plain": [
       "<Figure size 288x216 with 1 Axes>"
      ]
     },
     "metadata": {},
     "output_type": "display_data"
    }
   ],
   "source": [
    "plt.figure(figsize=(4,3))\n",
    "z = pd.DataFrame(tvars.groupby(['school', 'user_id']).tweet_id.count())\n",
    "z = z.unstack(0).count().unstack(0)\n",
    "z.index.name=None\n",
    "z = z.tweet_id\n",
    "plot = sns.barplot(x = z.index, y = z.values, palette='Blues', )\n",
    "for i in range(len(z)):\n",
    "    plot.text(i-.25, z[i]+1000, ''.join([str(np.round((z[i]/tvars.is_retweet.sum())*100,1)), '%']))\n",
    "plt.ylim(0, 35000)\n",
    "plt.title('Users Per School')\n",
    "plt.show(plot);"
   ]
  },
  {
   "cell_type": "code",
   "execution_count": 493,
   "metadata": {},
   "outputs": [
    {
     "data": {
      "text/html": [
       "<div>\n",
       "<style scoped>\n",
       "    .dataframe tbody tr th:only-of-type {\n",
       "        vertical-align: middle;\n",
       "    }\n",
       "\n",
       "    .dataframe tbody tr th {\n",
       "        vertical-align: top;\n",
       "    }\n",
       "\n",
       "    .dataframe thead th {\n",
       "        text-align: right;\n",
       "    }\n",
       "</style>\n",
       "<table border=\"1\" class=\"dataframe\">\n",
       "  <thead>\n",
       "    <tr style=\"text-align: right;\">\n",
       "      <th></th>\n",
       "      <th>tweet_id</th>\n",
       "    </tr>\n",
       "  </thead>\n",
       "  <tbody>\n",
       "    <tr>\n",
       "      <th>cm</th>\n",
       "      <td>4129</td>\n",
       "    </tr>\n",
       "    <tr>\n",
       "      <th>cornell</th>\n",
       "      <td>1678</td>\n",
       "    </tr>\n",
       "    <tr>\n",
       "      <th>stanford</th>\n",
       "      <td>27401</td>\n",
       "    </tr>\n",
       "    <tr>\n",
       "      <th>uchicago</th>\n",
       "      <td>2469</td>\n",
       "    </tr>\n",
       "  </tbody>\n",
       "</table>\n",
       "</div>"
      ],
      "text/plain": [
       "          tweet_id\n",
       "cm            4129\n",
       "cornell       1678\n",
       "stanford     27401\n",
       "uchicago      2469"
      ]
     },
     "execution_count": 493,
     "metadata": {},
     "output_type": "execute_result"
    }
   ],
   "source": []
  },
  {
   "cell_type": "code",
   "execution_count": 484,
   "metadata": {},
   "outputs": [
    {
     "data": {
      "image/png": "[encoded data removed]",
      "text/plain": [
       "<Figure size 288x216 with 1 Axes>"
      ]
     },
     "metadata": {},
     "output_type": "display_data"
    }
   ],
   "source": [
    "z = pd.DataFrame(tvars.groupby(['school', 'user_id']).tweet_id.count())\n",
    "z=pd.DataFrame(tvars.groupby('school').count().tweet_id)/z.unstack(0).count().unstack(0)\n",
    "z.index.name = None\n",
    "\n",
    "plt.figure(figsize=(4,3))\n",
    "plot = sns.barplot(x = z.index, y = z.values.flatten(), palette='Blues')\n",
    "plt.title('Mean Tweets Per User By School')\n",
    "plt.show(plot);"
   ]
  },
  {
   "cell_type": "code",
   "execution_count": 440,
   "metadata": {},
   "outputs": [
    {
     "data": {
      "image/png": "[encoded data removed]",
      "text/plain": [
       "<Figure size 288x216 with 1 Axes>"
      ]
     },
     "metadata": {},
     "output_type": "display_data"
    }
   ],
   "source": [
    "plt.figure(figsize=(4,3))\n",
    "z.index.name=''\n",
    "plot = sns.barplot(x = z.index, y = z.values, palette='Blues', )\n",
    "\n",
    "plt.title('Mean Account Age By School (Days)')\n",
    "plt.show(plot);"
   ]
  },
  {
   "cell_type": "code",
   "execution_count": 441,
   "metadata": {},
   "outputs": [
    {
     "data": {
      "text/plain": [
       "\n",
       "cm           5941\n",
       "cornell      2200\n",
       "stanford    48686\n",
       "uchicago     4264\n",
       "Name: user_id, dtype: int64"
      ]
     },
     "execution_count": 441,
     "metadata": {},
     "output_type": "execute_result"
    }
   ],
   "source": [
    "z"
   ]
  },
  {
   "cell_type": "markdown",
   "metadata": {},
   "source": [
    "**Tweet Timelines**"
   ]
  },
  {
   "cell_type": "code",
   "execution_count": 305,
   "metadata": {},
   "outputs": [],
   "source": [
    "tvars['tweet_dt'] = tvars.tweet_dt.apply(lambda x: x.date)"
   ]
  },
  {
   "cell_type": "code",
   "execution_count": 396,
   "metadata": {},
   "outputs": [
    {
     "data": {
      "text/html": [
       "<div>\n",
       "<style scoped>\n",
       "    .dataframe tbody tr th:only-of-type {\n",
       "        vertical-align: middle;\n",
       "    }\n",
       "\n",
       "    .dataframe tbody tr th {\n",
       "        vertical-align: top;\n",
       "    }\n",
       "\n",
       "    .dataframe thead th {\n",
       "        text-align: right;\n",
       "    }\n",
       "</style>\n",
       "<table border=\"1\" class=\"dataframe\">\n",
       "  <thead>\n",
       "    <tr style=\"text-align: right;\">\n",
       "      <th></th>\n",
       "      <th>cm</th>\n",
       "      <th>cornell</th>\n",
       "      <th>stanford</th>\n",
       "      <th>uchicago</th>\n",
       "    </tr>\n",
       "  </thead>\n",
       "  <tbody>\n",
       "    <tr>\n",
       "      <th>2017-06-22</th>\n",
       "      <td>0.0</td>\n",
       "      <td>1.0</td>\n",
       "      <td>12.0</td>\n",
       "      <td>0.0</td>\n",
       "    </tr>\n",
       "    <tr>\n",
       "      <th>2017-06-23</th>\n",
       "      <td>0.0</td>\n",
       "      <td>75.0</td>\n",
       "      <td>15.0</td>\n",
       "      <td>1.0</td>\n",
       "    </tr>\n",
       "    <tr>\n",
       "      <th>2017-06-24</th>\n",
       "      <td>0.0</td>\n",
       "      <td>10.0</td>\n",
       "      <td>19.0</td>\n",
       "      <td>0.0</td>\n",
       "    </tr>\n",
       "    <tr>\n",
       "      <th>2017-06-25</th>\n",
       "      <td>1.0</td>\n",
       "      <td>7.0</td>\n",
       "      <td>20.0</td>\n",
       "      <td>0.0</td>\n",
       "    </tr>\n",
       "    <tr>\n",
       "      <th>2017-06-26</th>\n",
       "      <td>0.0</td>\n",
       "      <td>44.0</td>\n",
       "      <td>39.0</td>\n",
       "      <td>1.0</td>\n",
       "    </tr>\n",
       "  </tbody>\n",
       "</table>\n",
       "</div>"
      ],
      "text/plain": [
       "             cm  cornell  stanford  uchicago\n",
       "2017-06-22  0.0      1.0      12.0       0.0\n",
       "2017-06-23  0.0     75.0      15.0       1.0\n",
       "2017-06-24  0.0     10.0      19.0       0.0\n",
       "2017-06-25  1.0      7.0      20.0       0.0\n",
       "2017-06-26  0.0     44.0      39.0       1.0"
      ]
     },
     "execution_count": 396,
     "metadata": {},
     "output_type": "execute_result"
    }
   ],
   "source": [
    "z = tvars.loc[:, ['tweet_id','tweet_dt','school']].groupby(['tweet_dt', 'school']).count().unstack('school').fillna(0)\n",
    "z.index.name = None\n",
    "z.columns = [c[1] for c in z.columns.to_flat_index()]\n",
    "z.head()"
   ]
  },
  {
   "cell_type": "code",
   "execution_count": 397,
   "metadata": {},
   "outputs": [
    {
     "data": {
      "image/png": "[encoded data removed]",
      "text/plain": [
       "<Figure size 1008x288 with 1 Axes>"
      ]
     },
     "metadata": {},
     "output_type": "display_data"
    }
   ],
   "source": [
    "plt.figure(figsize=(14,4))\n",
    "sns.lineplot(data=z, dashes=None, alpha=.8, linewidth=.8)\n",
    "plt.title('Tweet Counts Per Day By School');"
   ]
  },
  {
   "cell_type": "code",
   "execution_count": 404,
   "metadata": {},
   "outputs": [],
   "source": [
    "tweet_growth = z.cumsum()/z.sum()"
   ]
  },
  {
   "cell_type": "code",
   "execution_count": 407,
   "metadata": {},
   "outputs": [
    {
     "data": {
      "image/png": "[encoded data removed]",
      "text/plain": [
       "<Figure size 1008x288 with 1 Axes>"
      ]
     },
     "metadata": {},
     "output_type": "display_data"
    }
   ],
   "source": [
    "plt.figure(figsize=(14,4))\n",
    "sns.lineplot(data=tweet_growth, dashes=None, alpha=1, linewidth=1)\n",
    "plt.title('Tweet Growth Timeline By School');"
   ]
  },
  {
   "cell_type": "code",
   "execution_count": 549,
   "metadata": {},
   "outputs": [
    {
     "data": {
      "text/plain": [
       "[60258204, 1257170815881228288, 13584132, 756040164149977088, 3149729430]"
      ]
     },
     "execution_count": 549,
     "metadata": {},
     "output_type": "execute_result"
    }
   ],
   "source": [
    "cm_users = list(map(int, tvars.loc[tvars.school=='cm', ['user_id', 'tweet_id']].groupby('user_id')\\\n",
    "    .count().sort_values('tweet_id',ascending=False).iloc[0:5].index))\n",
    "\n",
    "cm_users"
   ]
  },
  {
   "cell_type": "code",
   "execution_count": 884,
   "metadata": {},
   "outputs": [],
   "source": [
    "cm_top_counts = pd.DataFrame(tvars.loc[tvars.school=='cm', ['user_id', 'tweet_id']].groupby('user_id')\\\n",
    "    .count().sort_values('tweet_id',ascending=False).iloc[0:5].tweet_id, index=cm_users)"
   ]
  },
  {
   "cell_type": "code",
   "execution_count": 887,
   "metadata": {},
   "outputs": [
    {
     "data": {
      "text/html": [
       "<div>\n",
       "<style scoped>\n",
       "    .dataframe tbody tr th:only-of-type {\n",
       "        vertical-align: middle;\n",
       "    }\n",
       "\n",
       "    .dataframe tbody tr th {\n",
       "        vertical-align: top;\n",
       "    }\n",
       "\n",
       "    .dataframe thead th {\n",
       "        text-align: right;\n",
       "    }\n",
       "</style>\n",
       "<table border=\"1\" class=\"dataframe\">\n",
       "  <thead>\n",
       "    <tr style=\"text-align: right;\">\n",
       "      <th></th>\n",
       "      <th>tweet_id</th>\n",
       "    </tr>\n",
       "  </thead>\n",
       "  <tbody>\n",
       "    <tr>\n",
       "      <th>60258204</th>\n",
       "      <td>69</td>\n",
       "    </tr>\n",
       "    <tr>\n",
       "      <th>1257170815881228288</th>\n",
       "      <td>61</td>\n",
       "    </tr>\n",
       "    <tr>\n",
       "      <th>13584132</th>\n",
       "      <td>47</td>\n",
       "    </tr>\n",
       "    <tr>\n",
       "      <th>756040164149977088</th>\n",
       "      <td>42</td>\n",
       "    </tr>\n",
       "    <tr>\n",
       "      <th>3149729430</th>\n",
       "      <td>36</td>\n",
       "    </tr>\n",
       "  </tbody>\n",
       "</table>\n",
       "</div>"
      ],
      "text/plain": [
       "                     tweet_id\n",
       "60258204                   69\n",
       "1257170815881228288        61\n",
       "13584132                   47\n",
       "756040164149977088         42\n",
       "3149729430                 36"
      ]
     },
     "execution_count": 887,
     "metadata": {},
     "output_type": "execute_result"
    }
   ],
   "source": [
    "cm_top_counts"
   ]
  },
  {
   "cell_type": "code",
   "execution_count": 891,
   "metadata": {},
   "outputs": [
    {
     "data": {
      "text/html": [
       "<div>\n",
       "<style scoped>\n",
       "    .dataframe tbody tr th:only-of-type {\n",
       "        vertical-align: middle;\n",
       "    }\n",
       "\n",
       "    .dataframe tbody tr th {\n",
       "        vertical-align: top;\n",
       "    }\n",
       "\n",
       "    .dataframe thead th {\n",
       "        text-align: right;\n",
       "    }\n",
       "</style>\n",
       "<table border=\"1\" class=\"dataframe\">\n",
       "  <thead>\n",
       "    <tr style=\"text-align: right;\">\n",
       "      <th></th>\n",
       "      <th>Carnegie Mellon User_ID</th>\n",
       "    </tr>\n",
       "  </thead>\n",
       "  <tbody>\n",
       "    <tr>\n",
       "      <th>1</th>\n",
       "      <td>60258204</td>\n",
       "    </tr>\n",
       "    <tr>\n",
       "      <th>2</th>\n",
       "      <td>1257170815881228288</td>\n",
       "    </tr>\n",
       "    <tr>\n",
       "      <th>3</th>\n",
       "      <td>13584132</td>\n",
       "    </tr>\n",
       "    <tr>\n",
       "      <th>4</th>\n",
       "      <td>756040164149977088</td>\n",
       "    </tr>\n",
       "    <tr>\n",
       "      <th>5</th>\n",
       "      <td>3149729430</td>\n",
       "    </tr>\n",
       "  </tbody>\n",
       "</table>\n",
       "</div>"
      ],
      "text/plain": [
       "   Carnegie Mellon User_ID\n",
       "1                 60258204\n",
       "2      1257170815881228288\n",
       "3                 13584132\n",
       "4       756040164149977088\n",
       "5               3149729430"
      ]
     },
     "execution_count": 891,
     "metadata": {},
     "output_type": "execute_result"
    }
   ],
   "source": [
    "pd.DataFrame(data = list(cm_top_counts.index), columns=['Carnegie Mellon User_ID'], index=np.arange(1,6))"
   ]
  },
  {
   "cell_type": "code",
   "execution_count": 522,
   "metadata": {},
   "outputs": [
    {
     "data": {
      "image/png": "[encoded data removed]",
      "text/plain": [
       "<Figure size 288x216 with 1 Axes>"
      ]
     },
     "metadata": {},
     "output_type": "display_data"
    }
   ],
   "source": [
    "plt.figure(figsize=(4,3))\n",
    "plot = sns.barplot(x = [1,2,3,4,5], y = cm_top_counts.values.flatten(), palette='Blues')\n",
    "plt.title('Carnegie Mellon Top 5 User Tweet Counts')\n",
    "plt.show(plot);"
   ]
  },
  {
   "cell_type": "code",
   "execution_count": 578,
   "metadata": {},
   "outputs": [
    {
     "data": {
      "image/png": "[encoded data removed]",
      "text/plain": [
       "<Figure size 288x216 with 1 Axes>"
      ]
     },
     "metadata": {},
     "output_type": "display_data"
    }
   ],
   "source": [
    "cm_top_counts = pd.DataFrame(data=tvars.loc[(tvars.school=='cm') & (tvars.is_retweet), \n",
    "                                       ['user_id', 'tweet_id']].groupby('user_id')\\\n",
    "    .count().sort_values('tweet_id',ascending=False).tweet_id, index=cm_users)\n",
    "\n",
    "plt.figure(figsize=(4,3))\n",
    "plot = sns.barplot(x = [1,2,3,4,5], y = cm_top_counts.values.flatten(), palette='Blues')\n",
    "plt.title('Carnegie Mellon Top 5 User Retweet Counts')\n",
    "plt.show(plot);"
   ]
  },
  {
   "cell_type": "code",
   "execution_count": 427,
   "metadata": {},
   "outputs": [
    {
     "data": {
      "text/plain": [
       "[3149729430, 1257170815881228288, 1001229541585686528, 3243551873, 614974325]"
      ]
     },
     "execution_count": 427,
     "metadata": {},
     "output_type": "execute_result"
    }
   ],
   "source": [
    "cornell_users = list(map(int, tvars.loc[tvars.school=='cornell', ['user_id', 'tweet_id']].groupby('user_id')\\\n",
    "    .count().sort_values('tweet_id',ascending=False).iloc[0:5].index))\n",
    "\n",
    "cornell_users"
   ]
  },
  {
   "cell_type": "code",
   "execution_count": 892,
   "metadata": {},
   "outputs": [],
   "source": [
    "cornell_top_counts = pd.DataFrame(tvars.loc[tvars.school=='cornell', ['user_id', 'tweet_id']].groupby('user_id')\\\n",
    "    .count().sort_values('tweet_id',ascending=False).iloc[0:5].tweet_id, index=cornell_users)"
   ]
  },
  {
   "cell_type": "code",
   "execution_count": 894,
   "metadata": {},
   "outputs": [
    {
     "data": {
      "text/html": [
       "<div>\n",
       "<style scoped>\n",
       "    .dataframe tbody tr th:only-of-type {\n",
       "        vertical-align: middle;\n",
       "    }\n",
       "\n",
       "    .dataframe tbody tr th {\n",
       "        vertical-align: top;\n",
       "    }\n",
       "\n",
       "    .dataframe thead th {\n",
       "        text-align: right;\n",
       "    }\n",
       "</style>\n",
       "<table border=\"1\" class=\"dataframe\">\n",
       "  <thead>\n",
       "    <tr style=\"text-align: right;\">\n",
       "      <th></th>\n",
       "      <th>Cornell User_ID</th>\n",
       "    </tr>\n",
       "  </thead>\n",
       "  <tbody>\n",
       "    <tr>\n",
       "      <th>1</th>\n",
       "      <td>3149729430</td>\n",
       "    </tr>\n",
       "    <tr>\n",
       "      <th>2</th>\n",
       "      <td>1257170815881228288</td>\n",
       "    </tr>\n",
       "    <tr>\n",
       "      <th>3</th>\n",
       "      <td>1001229541585686528</td>\n",
       "    </tr>\n",
       "    <tr>\n",
       "      <th>4</th>\n",
       "      <td>3243551873</td>\n",
       "    </tr>\n",
       "    <tr>\n",
       "      <th>5</th>\n",
       "      <td>614974325</td>\n",
       "    </tr>\n",
       "  </tbody>\n",
       "</table>\n",
       "</div>"
      ],
      "text/plain": [
       "       Cornell User_ID\n",
       "1           3149729430\n",
       "2  1257170815881228288\n",
       "3  1001229541585686528\n",
       "4           3243551873\n",
       "5            614974325"
      ]
     },
     "execution_count": 894,
     "metadata": {},
     "output_type": "execute_result"
    }
   ],
   "source": [
    "pd.DataFrame(data = list(cornell_top_counts.index), columns=['Cornell User_ID'], index=np.arange(1,6))"
   ]
  },
  {
   "cell_type": "code",
   "execution_count": 523,
   "metadata": {},
   "outputs": [
    {
     "data": {
      "image/png": "[encoded data removed]",
      "text/plain": [
       "<Figure size 288x216 with 1 Axes>"
      ]
     },
     "metadata": {},
     "output_type": "display_data"
    }
   ],
   "source": [
    "plt.figure(figsize=(4,3))\n",
    "plot = sns.barplot(x = [1,2,3,4,5], y = cornell_top_counts.values.flatten(), palette='Blues')\n",
    "plt.title('Cornell Top 5 User Tweet Counts')\n",
    "plt.show(plot);"
   ]
  },
  {
   "cell_type": "code",
   "execution_count": 579,
   "metadata": {},
   "outputs": [
    {
     "data": {
      "image/png": "[encoded data removed]",
      "text/plain": [
       "<Figure size 288x216 with 1 Axes>"
      ]
     },
     "metadata": {},
     "output_type": "display_data"
    }
   ],
   "source": [
    "cornell_top_counts = pd.DataFrame(data=tvars.loc[(tvars.school=='cornell') & (tvars.is_retweet), \n",
    "                                       ['user_id', 'tweet_id']].groupby('user_id')\\\n",
    "    .count().sort_values('tweet_id',ascending=False).tweet_id, index=cornell_users)\n",
    "\n",
    "plt.figure(figsize=(4,3))\n",
    "plot = sns.barplot(x = [1,2,3,4,5], y = cornell_top_counts.values.flatten(), palette='Blues')\n",
    "plt.title('Cornell Top 5 User Retweet Counts')\n",
    "plt.show(plot);"
   ]
  },
  {
   "cell_type": "code",
   "execution_count": 429,
   "metadata": {},
   "outputs": [
    {
     "data": {
      "text/plain": [
       "[4074372137,\n",
       " 841437061,\n",
       " 844456269222232064,\n",
       " 844458707178139648,\n",
       " 718175074537177088]"
      ]
     },
     "execution_count": 429,
     "metadata": {},
     "output_type": "execute_result"
    }
   ],
   "source": [
    "stanford_users = list(map(int, tvars.loc[tvars.school=='stanford', ['user_id', 'tweet_id']].groupby('user_id')\\\n",
    "    .count().sort_values('tweet_id',ascending=False).iloc[0:5].index))\n",
    "\n",
    "stanford_users"
   ]
  },
  {
   "cell_type": "code",
   "execution_count": 895,
   "metadata": {},
   "outputs": [],
   "source": [
    "stanford_top_counts = pd.DataFrame(tvars.loc[tvars.school=='stanford', ['user_id', 'tweet_id']].groupby('user_id')\\\n",
    "    .count().sort_values('tweet_id',ascending=False).iloc[0:5].tweet_id, index=stanford_users)"
   ]
  },
  {
   "cell_type": "code",
   "execution_count": 896,
   "metadata": {},
   "outputs": [
    {
     "data": {
      "text/html": [
       "<div>\n",
       "<style scoped>\n",
       "    .dataframe tbody tr th:only-of-type {\n",
       "        vertical-align: middle;\n",
       "    }\n",
       "\n",
       "    .dataframe tbody tr th {\n",
       "        vertical-align: top;\n",
       "    }\n",
       "\n",
       "    .dataframe thead th {\n",
       "        text-align: right;\n",
       "    }\n",
       "</style>\n",
       "<table border=\"1\" class=\"dataframe\">\n",
       "  <thead>\n",
       "    <tr style=\"text-align: right;\">\n",
       "      <th></th>\n",
       "      <th>stanford User_ID</th>\n",
       "    </tr>\n",
       "  </thead>\n",
       "  <tbody>\n",
       "    <tr>\n",
       "      <th>1</th>\n",
       "      <td>4074372137</td>\n",
       "    </tr>\n",
       "    <tr>\n",
       "      <th>2</th>\n",
       "      <td>841437061</td>\n",
       "    </tr>\n",
       "    <tr>\n",
       "      <th>3</th>\n",
       "      <td>844456269222232064</td>\n",
       "    </tr>\n",
       "    <tr>\n",
       "      <th>4</th>\n",
       "      <td>844458707178139648</td>\n",
       "    </tr>\n",
       "    <tr>\n",
       "      <th>5</th>\n",
       "      <td>718175074537177088</td>\n",
       "    </tr>\n",
       "  </tbody>\n",
       "</table>\n",
       "</div>"
      ],
      "text/plain": [
       "     stanford User_ID\n",
       "1          4074372137\n",
       "2           841437061\n",
       "3  844456269222232064\n",
       "4  844458707178139648\n",
       "5  718175074537177088"
      ]
     },
     "execution_count": 896,
     "metadata": {},
     "output_type": "execute_result"
    }
   ],
   "source": [
    "pd.DataFrame(data = list(stanford_top_counts.index), columns=['stanford User_ID'], index=np.arange(1,6))"
   ]
  },
  {
   "cell_type": "code",
   "execution_count": 524,
   "metadata": {},
   "outputs": [
    {
     "data": {
      "image/png": "[encoded data removed]",
      "text/plain": [
       "<Figure size 288x216 with 1 Axes>"
      ]
     },
     "metadata": {},
     "output_type": "display_data"
    }
   ],
   "source": [
    "plt.figure(figsize=(4,3))\n",
    "plot = sns.barplot(x = [1,2,3,4,5], y = stanford_top_counts.values.flatten(), palette='Blues')\n",
    "plt.title('Stanford Top 5 User Tweet Counts')\n",
    "plt.show(plot);"
   ]
  },
  {
   "cell_type": "code",
   "execution_count": 580,
   "metadata": {},
   "outputs": [
    {
     "data": {
      "image/png": "[encoded data removed]",
      "text/plain": [
       "<Figure size 288x216 with 1 Axes>"
      ]
     },
     "metadata": {},
     "output_type": "display_data"
    }
   ],
   "source": [
    "stanford_top_counts = pd.DataFrame(data=tvars.loc[(tvars.school=='stanford') & (tvars.is_retweet), \n",
    "                                       ['user_id', 'tweet_id']].groupby('user_id')\\\n",
    "    .count().sort_values('tweet_id',ascending=False).tweet_id, index=stanford_users)\n",
    "\n",
    "plt.figure(figsize=(4,3))\n",
    "plot = sns.barplot(x = [1,2,3,4,5], y = stanford_top_counts.values.flatten(), palette='Blues')\n",
    "plt.title('Stanford Top 5 User Retweet Counts')\n",
    "plt.show(plot);"
   ]
  },
  {
   "cell_type": "code",
   "execution_count": 430,
   "metadata": {},
   "outputs": [
    {
     "data": {
      "text/plain": [
       "[969234723619966976,\n",
       " 772170180,\n",
       " 24698230,\n",
       " 741636827178799104,\n",
       " 929740814657441792]"
      ]
     },
     "execution_count": 430,
     "metadata": {},
     "output_type": "execute_result"
    }
   ],
   "source": [
    "uchicago_users = list(map(int, tvars.loc[tvars.school=='uchicago', ['user_id', 'tweet_id']].groupby('user_id')\\\n",
    "    .count().sort_values('tweet_id',ascending=False).iloc[0:5].index))\n",
    "\n",
    "uchicago_users"
   ]
  },
  {
   "cell_type": "code",
   "execution_count": 897,
   "metadata": {},
   "outputs": [],
   "source": [
    "uchicago_top_counts = pd.DataFrame(tvars.loc[tvars.school=='uchicago', ['user_id', 'tweet_id']].groupby('user_id')\\\n",
    "    .count().sort_values('tweet_id',ascending=False).iloc[0:5].tweet_id, index=uchicago_users)"
   ]
  },
  {
   "cell_type": "code",
   "execution_count": 899,
   "metadata": {},
   "outputs": [
    {
     "data": {
      "text/html": [
       "<div>\n",
       "<style scoped>\n",
       "    .dataframe tbody tr th:only-of-type {\n",
       "        vertical-align: middle;\n",
       "    }\n",
       "\n",
       "    .dataframe tbody tr th {\n",
       "        vertical-align: top;\n",
       "    }\n",
       "\n",
       "    .dataframe thead th {\n",
       "        text-align: right;\n",
       "    }\n",
       "</style>\n",
       "<table border=\"1\" class=\"dataframe\">\n",
       "  <thead>\n",
       "    <tr style=\"text-align: right;\">\n",
       "      <th></th>\n",
       "      <th>UChicago User_ID</th>\n",
       "    </tr>\n",
       "  </thead>\n",
       "  <tbody>\n",
       "    <tr>\n",
       "      <th>1</th>\n",
       "      <td>969234723619966976</td>\n",
       "    </tr>\n",
       "    <tr>\n",
       "      <th>2</th>\n",
       "      <td>772170180</td>\n",
       "    </tr>\n",
       "    <tr>\n",
       "      <th>3</th>\n",
       "      <td>24698230</td>\n",
       "    </tr>\n",
       "    <tr>\n",
       "      <th>4</th>\n",
       "      <td>741636827178799104</td>\n",
       "    </tr>\n",
       "    <tr>\n",
       "      <th>5</th>\n",
       "      <td>929740814657441792</td>\n",
       "    </tr>\n",
       "  </tbody>\n",
       "</table>\n",
       "</div>"
      ],
      "text/plain": [
       "     UChicago User_ID\n",
       "1  969234723619966976\n",
       "2           772170180\n",
       "3            24698230\n",
       "4  741636827178799104\n",
       "5  929740814657441792"
      ]
     },
     "execution_count": 899,
     "metadata": {},
     "output_type": "execute_result"
    }
   ],
   "source": [
    "pd.DataFrame(data = list(uchicago_top_counts.index), columns=['UChicago User_ID'], index=np.arange(1,6))"
   ]
  },
  {
   "cell_type": "code",
   "execution_count": 525,
   "metadata": {},
   "outputs": [
    {
     "data": {
      "image/png": "[encoded data removed]",
      "text/plain": [
       "<Figure size 288x216 with 1 Axes>"
      ]
     },
     "metadata": {},
     "output_type": "display_data"
    }
   ],
   "source": [
    "plt.figure(figsize=(4,3))\n",
    "plot = sns.barplot(x = [1,2,3,4,5], y = uchicago_top_counts.values.flatten(), palette='Blues')\n",
    "plt.title('UChicago Top 5 User Tweet Counts')\n",
    "plt.show(plot);"
   ]
  },
  {
   "cell_type": "code",
   "execution_count": 581,
   "metadata": {},
   "outputs": [
    {
     "data": {
      "image/png": "[encoded data removed]",
      "text/plain": [
       "<Figure size 288x216 with 1 Axes>"
      ]
     },
     "metadata": {},
     "output_type": "display_data"
    }
   ],
   "source": [
    "uchicago_top_counts = pd.DataFrame(data=tvars.loc[(tvars.school=='uchicago') & (tvars.is_retweet), \n",
    "                                       ['user_id', 'tweet_id']].groupby('user_id')\\\n",
    "    .count().sort_values('tweet_id',ascending=False).tweet_id, index=uchicago_users)\n",
    "\n",
    "plt.figure(figsize=(4,3))\n",
    "plot = sns.barplot(x = [1,2,3,4,5], y = uchicago_top_counts.values.flatten(), palette='Blues')\n",
    "plt.title('UChicago Top 5 User Retweet Counts')\n",
    "plt.show(plot);"
   ]
  },
  {
   "cell_type": "code",
   "execution_count": 437,
   "metadata": {},
   "outputs": [],
   "source": [
    "top_users = {'cm':cm_users, 'cornell':cornell_users, 'stanford':stanford_users, 'uchicago':uchicago_users}"
   ]
  },
  {
   "cell_type": "code",
   "execution_count": 439,
   "metadata": {},
   "outputs": [],
   "source": [
    "pd.to_pickle(top_users, './Data/top_users.pkl')"
   ]
  },
  {
   "cell_type": "code",
   "execution_count": 590,
   "metadata": {},
   "outputs": [],
   "source": [
    "top_users = [j for i in list(top_users.values()) for j in i]"
   ]
  },
  {
   "cell_type": "code",
   "execution_count": 600,
   "metadata": {},
   "outputs": [
    {
     "data": {
      "text/html": [
       "<div>\n",
       "<style scoped>\n",
       "    .dataframe tbody tr th:only-of-type {\n",
       "        vertical-align: middle;\n",
       "    }\n",
       "\n",
       "    .dataframe tbody tr th {\n",
       "        vertical-align: top;\n",
       "    }\n",
       "\n",
       "    .dataframe thead th {\n",
       "        text-align: right;\n",
       "    }\n",
       "</style>\n",
       "<table border=\"1\" class=\"dataframe\">\n",
       "  <thead>\n",
       "    <tr style=\"text-align: right;\">\n",
       "      <th></th>\n",
       "      <th>user_location</th>\n",
       "    </tr>\n",
       "  </thead>\n",
       "  <tbody>\n",
       "    <tr>\n",
       "      <th>0</th>\n",
       "      <td>1338</td>\n",
       "    </tr>\n",
       "    <tr>\n",
       "      <th>Pittsburgh, PA</th>\n",
       "      <td>265</td>\n",
       "    </tr>\n",
       "    <tr>\n",
       "      <th>United States</th>\n",
       "      <td>87</td>\n",
       "    </tr>\n",
       "    <tr>\n",
       "      <th>New York, NY</th>\n",
       "      <td>81</td>\n",
       "    </tr>\n",
       "    <tr>\n",
       "      <th>New Delhi, India</th>\n",
       "      <td>72</td>\n",
       "    </tr>\n",
       "    <tr>\n",
       "      <th>poland</th>\n",
       "      <td>69</td>\n",
       "    </tr>\n",
       "    <tr>\n",
       "      <th>India</th>\n",
       "      <td>66</td>\n",
       "    </tr>\n",
       "    <tr>\n",
       "      <th>San Francisco, CA</th>\n",
       "      <td>54</td>\n",
       "    </tr>\n",
       "    <tr>\n",
       "      <th>Washington, DC</th>\n",
       "      <td>53</td>\n",
       "    </tr>\n",
       "    <tr>\n",
       "      <th>Global</th>\n",
       "      <td>51</td>\n",
       "    </tr>\n",
       "    <tr>\n",
       "      <th>London, England</th>\n",
       "      <td>46</td>\n",
       "    </tr>\n",
       "    <tr>\n",
       "      <th>London</th>\n",
       "      <td>44</td>\n",
       "    </tr>\n",
       "    <tr>\n",
       "      <th>Kharkiv, Ukraine</th>\n",
       "      <td>42</td>\n",
       "    </tr>\n",
       "    <tr>\n",
       "      <th>Toronto, Ontario</th>\n",
       "      <td>40</td>\n",
       "    </tr>\n",
       "    <tr>\n",
       "      <th>Boston, MA</th>\n",
       "      <td>40</td>\n",
       "    </tr>\n",
       "    <tr>\n",
       "      <th>Chicago, IL</th>\n",
       "      <td>33</td>\n",
       "    </tr>\n",
       "    <tr>\n",
       "      <th>Cambridge, MA</th>\n",
       "      <td>32</td>\n",
       "    </tr>\n",
       "    <tr>\n",
       "      <th>Singapore</th>\n",
       "      <td>32</td>\n",
       "    </tr>\n",
       "    <tr>\n",
       "      <th>Maryland, USA</th>\n",
       "      <td>31</td>\n",
       "    </tr>\n",
       "    <tr>\n",
       "      <th>Worldwide</th>\n",
       "      <td>31</td>\n",
       "    </tr>\n",
       "  </tbody>\n",
       "</table>\n",
       "</div>"
      ],
      "text/plain": [
       "                   user_location\n",
       "0                           1338\n",
       "Pittsburgh, PA               265\n",
       "United States                 87\n",
       "New York, NY                  81\n",
       "New Delhi, India              72\n",
       "poland                        69\n",
       "India                         66\n",
       "San Francisco, CA             54\n",
       "Washington, DC                53\n",
       "Global                        51\n",
       "London, England               46\n",
       "London                        44\n",
       "Kharkiv, Ukraine              42\n",
       "Toronto, Ontario              40\n",
       "Boston, MA                    40\n",
       "Chicago, IL                   33\n",
       "Cambridge, MA                 32\n",
       "Singapore                     32\n",
       "Maryland, USA                 31\n",
       "Worldwide                     31"
      ]
     },
     "execution_count": 600,
     "metadata": {},
     "output_type": "execute_result"
    }
   ],
   "source": [
    "pd.DataFrame(tvars.loc[tvars.school=='cm', 'user_location'].value_counts())[0:20]"
   ]
  },
  {
   "cell_type": "code",
   "execution_count": 783,
   "metadata": {},
   "outputs": [
    {
     "data": {
      "text/html": [
       "<div>\n",
       "<style scoped>\n",
       "    .dataframe tbody tr th:only-of-type {\n",
       "        vertical-align: middle;\n",
       "    }\n",
       "\n",
       "    .dataframe tbody tr th {\n",
       "        vertical-align: top;\n",
       "    }\n",
       "\n",
       "    .dataframe thead th {\n",
       "        text-align: right;\n",
       "    }\n",
       "</style>\n",
       "<table border=\"1\" class=\"dataframe\">\n",
       "  <thead>\n",
       "    <tr style=\"text-align: right;\">\n",
       "      <th></th>\n",
       "      <th>count</th>\n",
       "    </tr>\n",
       "  </thead>\n",
       "  <tbody>\n",
       "    <tr>\n",
       "      <th>pittsburgh</th>\n",
       "      <td>333</td>\n",
       "    </tr>\n",
       "    <tr>\n",
       "      <th>new york</th>\n",
       "      <td>145</td>\n",
       "    </tr>\n",
       "    <tr>\n",
       "      <th>san francisco</th>\n",
       "      <td>104</td>\n",
       "    </tr>\n",
       "    <tr>\n",
       "      <th>washington</th>\n",
       "      <td>76</td>\n",
       "    </tr>\n",
       "    <tr>\n",
       "      <th>boston</th>\n",
       "      <td>49</td>\n",
       "    </tr>\n",
       "  </tbody>\n",
       "</table>\n",
       "</div>"
      ],
      "text/plain": [
       "               count\n",
       "pittsburgh       333\n",
       "new york         145\n",
       "san francisco    104\n",
       "washington        76\n",
       "boston            49"
      ]
     },
     "execution_count": 783,
     "metadata": {},
     "output_type": "execute_result"
    }
   ],
   "source": [
    "cm_locs = ['pittsburgh', 'new york', 'san francisco', 'washington', 'boston']\n",
    "cm_loc_counts = {}\n",
    "for loc in cm_locs:\n",
    "    cm_loc_counts[loc] = tvars.loc[tvars.school=='cm', 'user_location'].apply(\n",
    "        lambda x: True if re.search(loc, str(x).lower()) else False).sum()\n",
    "\n",
    "cm_loc_counts = pd.DataFrame.from_dict(cm_loc_counts, orient='index', columns=['count'])\n",
    "cm_loc_counts"
   ]
  },
  {
   "cell_type": "code",
   "execution_count": 784,
   "metadata": {},
   "outputs": [
    {
     "data": {
      "text/html": [
       "<div>\n",
       "<style scoped>\n",
       "    .dataframe tbody tr th:only-of-type {\n",
       "        vertical-align: middle;\n",
       "    }\n",
       "\n",
       "    .dataframe tbody tr th {\n",
       "        vertical-align: top;\n",
       "    }\n",
       "\n",
       "    .dataframe thead th {\n",
       "        text-align: right;\n",
       "    }\n",
       "</style>\n",
       "<table border=\"1\" class=\"dataframe\">\n",
       "  <thead>\n",
       "    <tr style=\"text-align: right;\">\n",
       "      <th></th>\n",
       "      <th>count</th>\n",
       "      <th>lat</th>\n",
       "      <th>long</th>\n",
       "    </tr>\n",
       "  </thead>\n",
       "  <tbody>\n",
       "    <tr>\n",
       "      <th>pittsburgh</th>\n",
       "      <td>333</td>\n",
       "      <td>40.440624</td>\n",
       "      <td>-79.995888</td>\n",
       "    </tr>\n",
       "    <tr>\n",
       "      <th>new york</th>\n",
       "      <td>145</td>\n",
       "      <td>40.712776</td>\n",
       "      <td>-74.005974</td>\n",
       "    </tr>\n",
       "    <tr>\n",
       "      <th>san francisco</th>\n",
       "      <td>104</td>\n",
       "      <td>37.774929</td>\n",
       "      <td>-122.419418</td>\n",
       "    </tr>\n",
       "    <tr>\n",
       "      <th>washington</th>\n",
       "      <td>76</td>\n",
       "      <td>38.907192</td>\n",
       "      <td>-77.036873</td>\n",
       "    </tr>\n",
       "    <tr>\n",
       "      <th>boston</th>\n",
       "      <td>49</td>\n",
       "      <td>42.360081</td>\n",
       "      <td>-71.058884</td>\n",
       "    </tr>\n",
       "  </tbody>\n",
       "</table>\n",
       "</div>"
      ],
      "text/plain": [
       "               count        lat        long\n",
       "pittsburgh       333  40.440624  -79.995888\n",
       "new york         145  40.712776  -74.005974\n",
       "san francisco    104  37.774929 -122.419418\n",
       "washington        76  38.907192  -77.036873\n",
       "boston            49  42.360081  -71.058884"
      ]
     },
     "execution_count": 784,
     "metadata": {},
     "output_type": "execute_result"
    }
   ],
   "source": [
    "cm_coords = pd.DataFrame(data=[\n",
    "                        [40.440624, -79.995888],\n",
    "                        [40.712776, -74.005974],\n",
    "                        [37.774929, -122.419418],\n",
    "                        [38.907192, -77.036873],\n",
    "                        [42.360081, -71.058884]], columns=['lat','long'], index = cm_loc_counts.index)\n",
    "cm_loc_counts = cm_loc_counts.join(cm_coords)\n",
    "cm_loc_counts"
   ]
  },
  {
   "cell_type": "code",
   "execution_count": 785,
   "metadata": {},
   "outputs": [
    {
     "data": {
      "text/html": [
       "<div>\n",
       "<style scoped>\n",
       "    .dataframe tbody tr th:only-of-type {\n",
       "        vertical-align: middle;\n",
       "    }\n",
       "\n",
       "    .dataframe tbody tr th {\n",
       "        vertical-align: top;\n",
       "    }\n",
       "\n",
       "    .dataframe thead th {\n",
       "        text-align: right;\n",
       "    }\n",
       "</style>\n",
       "<table border=\"1\" class=\"dataframe\">\n",
       "  <thead>\n",
       "    <tr style=\"text-align: right;\">\n",
       "      <th></th>\n",
       "      <th>user_location</th>\n",
       "    </tr>\n",
       "  </thead>\n",
       "  <tbody>\n",
       "    <tr>\n",
       "      <th>0</th>\n",
       "      <td>617</td>\n",
       "    </tr>\n",
       "    <tr>\n",
       "      <th>New York, USA</th>\n",
       "      <td>32</td>\n",
       "    </tr>\n",
       "    <tr>\n",
       "      <th>United States</th>\n",
       "      <td>27</td>\n",
       "    </tr>\n",
       "    <tr>\n",
       "      <th>London</th>\n",
       "      <td>26</td>\n",
       "    </tr>\n",
       "    <tr>\n",
       "      <th>New York, NY</th>\n",
       "      <td>26</td>\n",
       "    </tr>\n",
       "    <tr>\n",
       "      <th>India</th>\n",
       "      <td>24</td>\n",
       "    </tr>\n",
       "    <tr>\n",
       "      <th>Ithaca, NY</th>\n",
       "      <td>24</td>\n",
       "    </tr>\n",
       "    <tr>\n",
       "      <th>London, England</th>\n",
       "      <td>22</td>\n",
       "    </tr>\n",
       "    <tr>\n",
       "      <th>New Delhi, India</th>\n",
       "      <td>15</td>\n",
       "    </tr>\n",
       "    <tr>\n",
       "      <th>Singapore</th>\n",
       "      <td>15</td>\n",
       "    </tr>\n",
       "    <tr>\n",
       "      <th>Boston, MA</th>\n",
       "      <td>15</td>\n",
       "    </tr>\n",
       "    <tr>\n",
       "      <th>Los Angeles, CA</th>\n",
       "      <td>14</td>\n",
       "    </tr>\n",
       "    <tr>\n",
       "      <th>Worldwide</th>\n",
       "      <td>13</td>\n",
       "    </tr>\n",
       "    <tr>\n",
       "      <th>UK</th>\n",
       "      <td>12</td>\n",
       "    </tr>\n",
       "    <tr>\n",
       "      <th>talk@into.AI</th>\n",
       "      <td>12</td>\n",
       "    </tr>\n",
       "    <tr>\n",
       "      <th>Australia</th>\n",
       "      <td>12</td>\n",
       "    </tr>\n",
       "    <tr>\n",
       "      <th>London, UK</th>\n",
       "      <td>12</td>\n",
       "    </tr>\n",
       "    <tr>\n",
       "      <th>San Francisco, CA</th>\n",
       "      <td>12</td>\n",
       "    </tr>\n",
       "    <tr>\n",
       "      <th>Wirral</th>\n",
       "      <td>11</td>\n",
       "    </tr>\n",
       "    <tr>\n",
       "      <th>Switzerland</th>\n",
       "      <td>10</td>\n",
       "    </tr>\n",
       "  </tbody>\n",
       "</table>\n",
       "</div>"
      ],
      "text/plain": [
       "                   user_location\n",
       "0                            617\n",
       "New York, USA                 32\n",
       "United States                 27\n",
       "London                        26\n",
       "New York, NY                  26\n",
       "India                         24\n",
       "Ithaca, NY                    24\n",
       "London, England               22\n",
       "New Delhi, India              15\n",
       "Singapore                     15\n",
       "Boston, MA                    15\n",
       "Los Angeles, CA               14\n",
       "Worldwide                     13\n",
       "UK                            12\n",
       "talk@into.AI                  12\n",
       "Australia                     12\n",
       "London, UK                    12\n",
       "San Francisco, CA             12\n",
       "Wirral                        11\n",
       "Switzerland                   10"
      ]
     },
     "execution_count": 785,
     "metadata": {},
     "output_type": "execute_result"
    }
   ],
   "source": [
    "pd.DataFrame(tvars.loc[tvars.school=='cornell', 'user_location'].value_counts())[0:20]"
   ]
  },
  {
   "cell_type": "code",
   "execution_count": 786,
   "metadata": {},
   "outputs": [
    {
     "data": {
      "text/html": [
       "<div>\n",
       "<style scoped>\n",
       "    .dataframe tbody tr th:only-of-type {\n",
       "        vertical-align: middle;\n",
       "    }\n",
       "\n",
       "    .dataframe tbody tr th {\n",
       "        vertical-align: top;\n",
       "    }\n",
       "\n",
       "    .dataframe thead th {\n",
       "        text-align: right;\n",
       "    }\n",
       "</style>\n",
       "<table border=\"1\" class=\"dataframe\">\n",
       "  <thead>\n",
       "    <tr style=\"text-align: right;\">\n",
       "      <th></th>\n",
       "      <th>count</th>\n",
       "    </tr>\n",
       "  </thead>\n",
       "  <tbody>\n",
       "    <tr>\n",
       "      <th>new york</th>\n",
       "      <td>82</td>\n",
       "    </tr>\n",
       "    <tr>\n",
       "      <th>ithaca</th>\n",
       "      <td>48</td>\n",
       "    </tr>\n",
       "    <tr>\n",
       "      <th>boston</th>\n",
       "      <td>17</td>\n",
       "    </tr>\n",
       "    <tr>\n",
       "      <th>los angeles</th>\n",
       "      <td>22</td>\n",
       "    </tr>\n",
       "    <tr>\n",
       "      <th>san francisco</th>\n",
       "      <td>15</td>\n",
       "    </tr>\n",
       "  </tbody>\n",
       "</table>\n",
       "</div>"
      ],
      "text/plain": [
       "               count\n",
       "new york          82\n",
       "ithaca            48\n",
       "boston            17\n",
       "los angeles       22\n",
       "san francisco     15"
      ]
     },
     "execution_count": 786,
     "metadata": {},
     "output_type": "execute_result"
    }
   ],
   "source": [
    "cornell_locs = ['new york', 'ithaca','boston','los angeles', 'san francisco']\n",
    "cornell_loc_counts = {}\n",
    "for loc in cornell_locs:\n",
    "    cornell_loc_counts[loc] = tvars.loc[tvars.school=='cornell', 'user_location'].apply(\n",
    "        lambda x: True if re.search(loc, str(x).lower()) else False).sum()\n",
    "\n",
    "cornell_loc_counts = pd.DataFrame.from_dict(cornell_loc_counts, orient='index', columns=['count'])\n",
    "cornell_loc_counts"
   ]
  },
  {
   "cell_type": "code",
   "execution_count": 787,
   "metadata": {},
   "outputs": [
    {
     "data": {
      "text/html": [
       "<div>\n",
       "<style scoped>\n",
       "    .dataframe tbody tr th:only-of-type {\n",
       "        vertical-align: middle;\n",
       "    }\n",
       "\n",
       "    .dataframe tbody tr th {\n",
       "        vertical-align: top;\n",
       "    }\n",
       "\n",
       "    .dataframe thead th {\n",
       "        text-align: right;\n",
       "    }\n",
       "</style>\n",
       "<table border=\"1\" class=\"dataframe\">\n",
       "  <thead>\n",
       "    <tr style=\"text-align: right;\">\n",
       "      <th></th>\n",
       "      <th>count</th>\n",
       "      <th>lat</th>\n",
       "      <th>long</th>\n",
       "    </tr>\n",
       "  </thead>\n",
       "  <tbody>\n",
       "    <tr>\n",
       "      <th>new york</th>\n",
       "      <td>82</td>\n",
       "      <td>40.712776</td>\n",
       "      <td>-74.005974</td>\n",
       "    </tr>\n",
       "    <tr>\n",
       "      <th>ithaca</th>\n",
       "      <td>48</td>\n",
       "      <td>42.440498</td>\n",
       "      <td>-76.495697</td>\n",
       "    </tr>\n",
       "    <tr>\n",
       "      <th>boston</th>\n",
       "      <td>17</td>\n",
       "      <td>42.360081</td>\n",
       "      <td>-71.058884</td>\n",
       "    </tr>\n",
       "    <tr>\n",
       "      <th>los angeles</th>\n",
       "      <td>22</td>\n",
       "      <td>34.052235</td>\n",
       "      <td>-118.243683</td>\n",
       "    </tr>\n",
       "    <tr>\n",
       "      <th>san francisco</th>\n",
       "      <td>15</td>\n",
       "      <td>37.774929</td>\n",
       "      <td>-122.419418</td>\n",
       "    </tr>\n",
       "  </tbody>\n",
       "</table>\n",
       "</div>"
      ],
      "text/plain": [
       "               count        lat        long\n",
       "new york          82  40.712776  -74.005974\n",
       "ithaca            48  42.440498  -76.495697\n",
       "boston            17  42.360081  -71.058884\n",
       "los angeles       22  34.052235 -118.243683\n",
       "san francisco     15  37.774929 -122.419418"
      ]
     },
     "execution_count": 787,
     "metadata": {},
     "output_type": "execute_result"
    }
   ],
   "source": [
    "cornell_coords = pd.DataFrame(data=[\n",
    "                        [40.712776, -74.005974],\n",
    "                        [42.440498, -76.495697],\n",
    "                        [42.360081, -71.058884],\n",
    "                        [34.052235, -118.243683],\n",
    "                        [37.774929, -122.419418]], columns=['lat','long'], index = cornell_loc_counts.index)\n",
    "cornell_loc_counts = cornell_loc_counts.join(cornell_coords)\n",
    "cornell_loc_counts"
   ]
  },
  {
   "cell_type": "code",
   "execution_count": 788,
   "metadata": {},
   "outputs": [
    {
     "data": {
      "text/html": [
       "<div>\n",
       "<style scoped>\n",
       "    .dataframe tbody tr th:only-of-type {\n",
       "        vertical-align: middle;\n",
       "    }\n",
       "\n",
       "    .dataframe tbody tr th {\n",
       "        vertical-align: top;\n",
       "    }\n",
       "\n",
       "    .dataframe thead th {\n",
       "        text-align: right;\n",
       "    }\n",
       "</style>\n",
       "<table border=\"1\" class=\"dataframe\">\n",
       "  <thead>\n",
       "    <tr style=\"text-align: right;\">\n",
       "      <th></th>\n",
       "      <th>user_location</th>\n",
       "    </tr>\n",
       "  </thead>\n",
       "  <tbody>\n",
       "    <tr>\n",
       "      <th>0</th>\n",
       "      <td>11534</td>\n",
       "    </tr>\n",
       "    <tr>\n",
       "      <th>Stanford, CA</th>\n",
       "      <td>872</td>\n",
       "    </tr>\n",
       "    <tr>\n",
       "      <th>San Francisco, CA</th>\n",
       "      <td>778</td>\n",
       "    </tr>\n",
       "    <tr>\n",
       "      <th>United States</th>\n",
       "      <td>672</td>\n",
       "    </tr>\n",
       "    <tr>\n",
       "      <th>London, England</th>\n",
       "      <td>493</td>\n",
       "    </tr>\n",
       "    <tr>\n",
       "      <th>Palo Alto, CA</th>\n",
       "      <td>466</td>\n",
       "    </tr>\n",
       "    <tr>\n",
       "      <th>New York, NY</th>\n",
       "      <td>466</td>\n",
       "    </tr>\n",
       "    <tr>\n",
       "      <th>India</th>\n",
       "      <td>455</td>\n",
       "    </tr>\n",
       "    <tr>\n",
       "      <th>Global</th>\n",
       "      <td>414</td>\n",
       "    </tr>\n",
       "    <tr>\n",
       "      <th>Boston, MA</th>\n",
       "      <td>329</td>\n",
       "    </tr>\n",
       "    <tr>\n",
       "      <th>New York, USA</th>\n",
       "      <td>283</td>\n",
       "    </tr>\n",
       "    <tr>\n",
       "      <th>Washington, DC</th>\n",
       "      <td>278</td>\n",
       "    </tr>\n",
       "    <tr>\n",
       "      <th>California, USA</th>\n",
       "      <td>271</td>\n",
       "    </tr>\n",
       "    <tr>\n",
       "      <th>Paris, France</th>\n",
       "      <td>261</td>\n",
       "    </tr>\n",
       "    <tr>\n",
       "      <th>North Carolina, USA</th>\n",
       "      <td>261</td>\n",
       "    </tr>\n",
       "    <tr>\n",
       "      <th>Georgia, USA</th>\n",
       "      <td>259</td>\n",
       "    </tr>\n",
       "    <tr>\n",
       "      <th>London</th>\n",
       "      <td>252</td>\n",
       "    </tr>\n",
       "    <tr>\n",
       "      <th>Germany</th>\n",
       "      <td>223</td>\n",
       "    </tr>\n",
       "    <tr>\n",
       "      <th>Silicon Valley, CA</th>\n",
       "      <td>219</td>\n",
       "    </tr>\n",
       "    <tr>\n",
       "      <th>San Francisco</th>\n",
       "      <td>210</td>\n",
       "    </tr>\n",
       "  </tbody>\n",
       "</table>\n",
       "</div>"
      ],
      "text/plain": [
       "                     user_location\n",
       "0                            11534\n",
       "Stanford, CA                   872\n",
       "San Francisco, CA              778\n",
       "United States                  672\n",
       "London, England                493\n",
       "Palo Alto, CA                  466\n",
       "New York, NY                   466\n",
       "India                          455\n",
       "Global                         414\n",
       "Boston, MA                     329\n",
       "New York, USA                  283\n",
       "Washington, DC                 278\n",
       "California, USA                271\n",
       "Paris, France                  261\n",
       "North Carolina, USA            261\n",
       "Georgia, USA                   259\n",
       "London                         252\n",
       "Germany                        223\n",
       "Silicon Valley, CA             219\n",
       "San Francisco                  210"
      ]
     },
     "execution_count": 788,
     "metadata": {},
     "output_type": "execute_result"
    }
   ],
   "source": [
    "pd.DataFrame(tvars.loc[tvars.school=='stanford', 'user_location'].value_counts())[0:20]"
   ]
  },
  {
   "cell_type": "code",
   "execution_count": 789,
   "metadata": {},
   "outputs": [
    {
     "data": {
      "text/html": [
       "<div>\n",
       "<style scoped>\n",
       "    .dataframe tbody tr th:only-of-type {\n",
       "        vertical-align: middle;\n",
       "    }\n",
       "\n",
       "    .dataframe tbody tr th {\n",
       "        vertical-align: top;\n",
       "    }\n",
       "\n",
       "    .dataframe thead th {\n",
       "        text-align: right;\n",
       "    }\n",
       "</style>\n",
       "<table border=\"1\" class=\"dataframe\">\n",
       "  <thead>\n",
       "    <tr style=\"text-align: right;\">\n",
       "      <th></th>\n",
       "      <th>count</th>\n",
       "    </tr>\n",
       "  </thead>\n",
       "  <tbody>\n",
       "    <tr>\n",
       "      <th>stanford</th>\n",
       "      <td>1238</td>\n",
       "    </tr>\n",
       "    <tr>\n",
       "      <th>san francisco</th>\n",
       "      <td>1263</td>\n",
       "    </tr>\n",
       "    <tr>\n",
       "      <th>palo alto</th>\n",
       "      <td>596</td>\n",
       "    </tr>\n",
       "    <tr>\n",
       "      <th>new york</th>\n",
       "      <td>1070</td>\n",
       "    </tr>\n",
       "    <tr>\n",
       "      <th>boston</th>\n",
       "      <td>480</td>\n",
       "    </tr>\n",
       "  </tbody>\n",
       "</table>\n",
       "</div>"
      ],
      "text/plain": [
       "               count\n",
       "stanford        1238\n",
       "san francisco   1263\n",
       "palo alto        596\n",
       "new york        1070\n",
       "boston           480"
      ]
     },
     "execution_count": 789,
     "metadata": {},
     "output_type": "execute_result"
    }
   ],
   "source": [
    "stanford_locs = ['stanford', 'san francisco','palo alto','new york', 'boston']\n",
    "stanford_loc_counts = {}\n",
    "for loc in stanford_locs:\n",
    "    stanford_loc_counts[loc] = tvars.loc[tvars.school=='stanford', 'user_location'].apply(\n",
    "        lambda x: True if re.search(loc, str(x).lower()) else False).sum()\n",
    "\n",
    "stanford_loc_counts = pd.DataFrame.from_dict(stanford_loc_counts, orient='index', columns=['count'])\n",
    "stanford_loc_counts"
   ]
  },
  {
   "cell_type": "code",
   "execution_count": 790,
   "metadata": {},
   "outputs": [
    {
     "data": {
      "text/html": [
       "<div>\n",
       "<style scoped>\n",
       "    .dataframe tbody tr th:only-of-type {\n",
       "        vertical-align: middle;\n",
       "    }\n",
       "\n",
       "    .dataframe tbody tr th {\n",
       "        vertical-align: top;\n",
       "    }\n",
       "\n",
       "    .dataframe thead th {\n",
       "        text-align: right;\n",
       "    }\n",
       "</style>\n",
       "<table border=\"1\" class=\"dataframe\">\n",
       "  <thead>\n",
       "    <tr style=\"text-align: right;\">\n",
       "      <th></th>\n",
       "      <th>count</th>\n",
       "      <th>lat</th>\n",
       "      <th>long</th>\n",
       "    </tr>\n",
       "  </thead>\n",
       "  <tbody>\n",
       "    <tr>\n",
       "      <th>stanford</th>\n",
       "      <td>1238</td>\n",
       "      <td>37.424107</td>\n",
       "      <td>-122.166077</td>\n",
       "    </tr>\n",
       "    <tr>\n",
       "      <th>san francisco</th>\n",
       "      <td>1263</td>\n",
       "      <td>37.774929</td>\n",
       "      <td>-122.419418</td>\n",
       "    </tr>\n",
       "    <tr>\n",
       "      <th>palo alto</th>\n",
       "      <td>596</td>\n",
       "      <td>37.445099</td>\n",
       "      <td>-122.160362</td>\n",
       "    </tr>\n",
       "    <tr>\n",
       "      <th>new york</th>\n",
       "      <td>1070</td>\n",
       "      <td>40.712776</td>\n",
       "      <td>-74.005974</td>\n",
       "    </tr>\n",
       "    <tr>\n",
       "      <th>boston</th>\n",
       "      <td>480</td>\n",
       "      <td>42.360081</td>\n",
       "      <td>-71.058884</td>\n",
       "    </tr>\n",
       "  </tbody>\n",
       "</table>\n",
       "</div>"
      ],
      "text/plain": [
       "               count        lat        long\n",
       "stanford        1238  37.424107 -122.166077\n",
       "san francisco   1263  37.774929 -122.419418\n",
       "palo alto        596  37.445099 -122.160362\n",
       "new york        1070  40.712776  -74.005974\n",
       "boston           480  42.360081  -71.058884"
      ]
     },
     "execution_count": 790,
     "metadata": {},
     "output_type": "execute_result"
    }
   ],
   "source": [
    "stanford_coords = pd.DataFrame(data=[\n",
    "                        [37.424107, -122.1660774],\n",
    "                        [37.774929, -122.419418],\n",
    "                        [37.445099, -122.160362],\n",
    "                        [40.712776, -74.005974],\n",
    "                        [42.360081, -71.058884]], columns=['lat','long'], index = stanford_loc_counts.index)\n",
    "stanford_loc_counts = stanford_loc_counts.join(stanford_coords)\n",
    "stanford_loc_counts"
   ]
  },
  {
   "cell_type": "code",
   "execution_count": 791,
   "metadata": {},
   "outputs": [
    {
     "data": {
      "text/html": [
       "<div>\n",
       "<style scoped>\n",
       "    .dataframe tbody tr th:only-of-type {\n",
       "        vertical-align: middle;\n",
       "    }\n",
       "\n",
       "    .dataframe tbody tr th {\n",
       "        vertical-align: top;\n",
       "    }\n",
       "\n",
       "    .dataframe thead th {\n",
       "        text-align: right;\n",
       "    }\n",
       "</style>\n",
       "<table border=\"1\" class=\"dataframe\">\n",
       "  <thead>\n",
       "    <tr style=\"text-align: right;\">\n",
       "      <th></th>\n",
       "      <th>user_location</th>\n",
       "    </tr>\n",
       "  </thead>\n",
       "  <tbody>\n",
       "    <tr>\n",
       "      <th>0</th>\n",
       "      <td>762</td>\n",
       "    </tr>\n",
       "    <tr>\n",
       "      <th>Chicago, IL</th>\n",
       "      <td>654</td>\n",
       "    </tr>\n",
       "    <tr>\n",
       "      <th>Chicago</th>\n",
       "      <td>150</td>\n",
       "    </tr>\n",
       "    <tr>\n",
       "      <th>Chicago, Illinois</th>\n",
       "      <td>100</td>\n",
       "    </tr>\n",
       "    <tr>\n",
       "      <th>United States</th>\n",
       "      <td>85</td>\n",
       "    </tr>\n",
       "    <tr>\n",
       "      <th>Los Angeles, CA</th>\n",
       "      <td>57</td>\n",
       "    </tr>\n",
       "    <tr>\n",
       "      <th>United Kingdom</th>\n",
       "      <td>52</td>\n",
       "    </tr>\n",
       "    <tr>\n",
       "      <th>New York, NY</th>\n",
       "      <td>46</td>\n",
       "    </tr>\n",
       "    <tr>\n",
       "      <th>Mongolia</th>\n",
       "      <td>46</td>\n",
       "    </tr>\n",
       "    <tr>\n",
       "      <th>Washington, DC</th>\n",
       "      <td>36</td>\n",
       "    </tr>\n",
       "    <tr>\n",
       "      <th>Boston, MA</th>\n",
       "      <td>35</td>\n",
       "    </tr>\n",
       "    <tr>\n",
       "      <th>Hyde Park, IL</th>\n",
       "      <td>35</td>\n",
       "    </tr>\n",
       "    <tr>\n",
       "      <th>San Francisco, CA</th>\n",
       "      <td>30</td>\n",
       "    </tr>\n",
       "    <tr>\n",
       "      <th>Maryland, USA</th>\n",
       "      <td>30</td>\n",
       "    </tr>\n",
       "    <tr>\n",
       "      <th>University of Chicago</th>\n",
       "      <td>27</td>\n",
       "    </tr>\n",
       "    <tr>\n",
       "      <th>Lemont, IL</th>\n",
       "      <td>26</td>\n",
       "    </tr>\n",
       "    <tr>\n",
       "      <th>Global</th>\n",
       "      <td>26</td>\n",
       "    </tr>\n",
       "    <tr>\n",
       "      <th>Shropshire</th>\n",
       "      <td>25</td>\n",
       "    </tr>\n",
       "    <tr>\n",
       "      <th>London, England</th>\n",
       "      <td>24</td>\n",
       "    </tr>\n",
       "    <tr>\n",
       "      <th>Santiago, Chile</th>\n",
       "      <td>23</td>\n",
       "    </tr>\n",
       "  </tbody>\n",
       "</table>\n",
       "</div>"
      ],
      "text/plain": [
       "                       user_location\n",
       "0                                762\n",
       "Chicago, IL                      654\n",
       "Chicago                          150\n",
       "Chicago, Illinois                100\n",
       "United States                     85\n",
       "Los Angeles, CA                   57\n",
       "United Kingdom                    52\n",
       "New York, NY                      46\n",
       "Mongolia                          46\n",
       "Washington, DC                    36\n",
       "Boston, MA                        35\n",
       "Hyde Park, IL                     35\n",
       "San Francisco, CA                 30\n",
       "Maryland, USA                     30\n",
       "University of Chicago             27\n",
       "Lemont, IL                        26\n",
       "Global                            26\n",
       "Shropshire                        25\n",
       "London, England                   24\n",
       "Santiago, Chile                   23"
      ]
     },
     "execution_count": 791,
     "metadata": {},
     "output_type": "execute_result"
    }
   ],
   "source": [
    "pd.DataFrame(tvars.loc[tvars.school=='uchicago', 'user_location'].value_counts())[0:20]"
   ]
  },
  {
   "cell_type": "code",
   "execution_count": 792,
   "metadata": {},
   "outputs": [
    {
     "data": {
      "text/html": [
       "<div>\n",
       "<style scoped>\n",
       "    .dataframe tbody tr th:only-of-type {\n",
       "        vertical-align: middle;\n",
       "    }\n",
       "\n",
       "    .dataframe tbody tr th {\n",
       "        vertical-align: top;\n",
       "    }\n",
       "\n",
       "    .dataframe thead th {\n",
       "        text-align: right;\n",
       "    }\n",
       "</style>\n",
       "<table border=\"1\" class=\"dataframe\">\n",
       "  <thead>\n",
       "    <tr style=\"text-align: right;\">\n",
       "      <th></th>\n",
       "      <th>count</th>\n",
       "    </tr>\n",
       "  </thead>\n",
       "  <tbody>\n",
       "    <tr>\n",
       "      <th>chicago</th>\n",
       "      <td>1025</td>\n",
       "    </tr>\n",
       "    <tr>\n",
       "      <th>los angeles</th>\n",
       "      <td>65</td>\n",
       "    </tr>\n",
       "    <tr>\n",
       "      <th>new york</th>\n",
       "      <td>82</td>\n",
       "    </tr>\n",
       "    <tr>\n",
       "      <th>washington</th>\n",
       "      <td>90</td>\n",
       "    </tr>\n",
       "    <tr>\n",
       "      <th>boston</th>\n",
       "      <td>42</td>\n",
       "    </tr>\n",
       "  </tbody>\n",
       "</table>\n",
       "</div>"
      ],
      "text/plain": [
       "             count\n",
       "chicago       1025\n",
       "los angeles     65\n",
       "new york        82\n",
       "washington      90\n",
       "boston          42"
      ]
     },
     "execution_count": 792,
     "metadata": {},
     "output_type": "execute_result"
    }
   ],
   "source": [
    "uchicago_locs = ['chicago', 'los angeles','new york','washington', 'boston']\n",
    "uchicago_loc_counts = {}\n",
    "for loc in uchicago_locs:\n",
    "    uchicago_loc_counts[loc] = tvars.loc[tvars.school=='uchicago', 'user_location'].apply(\n",
    "        lambda x: True if re.search(loc, str(x).lower()) else False).sum()\n",
    "\n",
    "uchicago_loc_counts = pd.DataFrame.from_dict(uchicago_loc_counts, orient='index', columns=['count'])\n",
    "uchicago_loc_counts"
   ]
  },
  {
   "cell_type": "code",
   "execution_count": 793,
   "metadata": {},
   "outputs": [
    {
     "data": {
      "text/html": [
       "<div>\n",
       "<style scoped>\n",
       "    .dataframe tbody tr th:only-of-type {\n",
       "        vertical-align: middle;\n",
       "    }\n",
       "\n",
       "    .dataframe tbody tr th {\n",
       "        vertical-align: top;\n",
       "    }\n",
       "\n",
       "    .dataframe thead th {\n",
       "        text-align: right;\n",
       "    }\n",
       "</style>\n",
       "<table border=\"1\" class=\"dataframe\">\n",
       "  <thead>\n",
       "    <tr style=\"text-align: right;\">\n",
       "      <th></th>\n",
       "      <th>count</th>\n",
       "      <th>lat</th>\n",
       "      <th>long</th>\n",
       "    </tr>\n",
       "  </thead>\n",
       "  <tbody>\n",
       "    <tr>\n",
       "      <th>chicago</th>\n",
       "      <td>1025</td>\n",
       "      <td>41.878113</td>\n",
       "      <td>-87.629799</td>\n",
       "    </tr>\n",
       "    <tr>\n",
       "      <th>los angeles</th>\n",
       "      <td>65</td>\n",
       "      <td>34.052235</td>\n",
       "      <td>-118.243683</td>\n",
       "    </tr>\n",
       "    <tr>\n",
       "      <th>new york</th>\n",
       "      <td>82</td>\n",
       "      <td>40.712776</td>\n",
       "      <td>-74.005974</td>\n",
       "    </tr>\n",
       "    <tr>\n",
       "      <th>washington</th>\n",
       "      <td>90</td>\n",
       "      <td>38.907192</td>\n",
       "      <td>-77.036873</td>\n",
       "    </tr>\n",
       "    <tr>\n",
       "      <th>boston</th>\n",
       "      <td>42</td>\n",
       "      <td>42.360081</td>\n",
       "      <td>-71.058884</td>\n",
       "    </tr>\n",
       "  </tbody>\n",
       "</table>\n",
       "</div>"
      ],
      "text/plain": [
       "             count        lat        long\n",
       "chicago       1025  41.878113  -87.629799\n",
       "los angeles     65  34.052235 -118.243683\n",
       "new york        82  40.712776  -74.005974\n",
       "washington      90  38.907192  -77.036873\n",
       "boston          42  42.360081  -71.058884"
      ]
     },
     "execution_count": 793,
     "metadata": {},
     "output_type": "execute_result"
    }
   ],
   "source": [
    "uchicago_coords = pd.DataFrame(data=[\n",
    "                        [41.878113, -87.629799],\n",
    "                        [34.052235, -118.243683],\n",
    "                        [40.712776, -74.005974],\n",
    "                        [38.907192, -77.036873],\n",
    "                        [42.360081, -71.058884]], columns=['lat','long'], index = uchicago_loc_counts.index)\n",
    "uchicago_loc_counts = uchicago_loc_counts.join(uchicago_coords)\n",
    "uchicago_loc_counts"
   ]
  },
  {
   "cell_type": "code",
   "execution_count": null,
   "metadata": {},
   "outputs": [],
   "source": []
  },
  {
   "cell_type": "code",
   "execution_count": 794,
   "metadata": {},
   "outputs": [],
   "source": [
    "import cartopy.crs as crs\n",
    "import cartopy.feature as cfeature"
   ]
  },
  {
   "cell_type": "code",
   "execution_count": 799,
   "metadata": {},
   "outputs": [
    {
     "data": {
      "image/png": "[encoded data removed]",
      "text/plain": [
       "<Figure size 432x288 with 1 Axes>"
      ]
     },
     "metadata": {},
     "output_type": "display_data"
    }
   ],
   "source": [
    "figure = plt.figure(figsize=(6,4))\n",
    "ax = figure.add_subplot(1,1,1, projection=crs.Mercator())\n",
    "ax.add_feature(cfeature.COASTLINE)\n",
    "ax.add_feature(cfeature.STATES)# Zoom in on the US by setting longitude/latitude parameters\n",
    "ax.set_extent([-125, -65, 25, 50], crs=crs.PlateCarree())\n",
    "\n",
    "plt.scatter(x=cm_loc_counts['long'], \n",
    "            y=cm_loc_counts['lat'],\n",
    "            transform=crs.PlateCarree(),\n",
    "            c='orange', s=400, alpha=.7)\n",
    "plt.title('Carnegie Mellon Tweet Locations')\n",
    "plt.show()\n"
   ]
  },
  {
   "cell_type": "code",
   "execution_count": 802,
   "metadata": {},
   "outputs": [
    {
     "data": {
      "image/png": "[encoded data removed]",
      "text/plain": [
       "<Figure size 432x288 with 1 Axes>"
      ]
     },
     "metadata": {},
     "output_type": "display_data"
    }
   ],
   "source": [
    "figure = plt.figure(figsize=(6,4))\n",
    "ax = figure.add_subplot(1,1,1, projection=crs.Mercator())\n",
    "ax.add_feature(cfeature.COASTLINE)\n",
    "ax.add_feature(cfeature.STATES)# Zoom in on the US by setting longitude/latitude parameters\n",
    "ax.set_extent([-125, -65, 25, 50], crs=crs.PlateCarree())\n",
    "\n",
    "plt.scatter(x=cornell_loc_counts['long'], \n",
    "            y=cornell_loc_counts['lat'],\n",
    "            transform=crs.PlateCarree(),\n",
    "            c='blue', s=400, alpha=.7)\n",
    "plt.title('Cornell Tweet Locations')\n",
    "plt.show()"
   ]
  },
  {
   "cell_type": "code",
   "execution_count": 803,
   "metadata": {},
   "outputs": [
    {
     "data": {
      "image/png": "[encoded data removed]",
      "text/plain": [
       "<Figure size 432x288 with 1 Axes>"
      ]
     },
     "metadata": {},
     "output_type": "display_data"
    }
   ],
   "source": [
    "figure = plt.figure(figsize=(6,4))\n",
    "ax = figure.add_subplot(1,1,1, projection=crs.Mercator())\n",
    "ax.add_feature(cfeature.COASTLINE)\n",
    "ax.add_feature(cfeature.STATES)# Zoom in on the US by setting longitude/latitude parameters\n",
    "ax.set_extent([-125, -65, 25, 50], crs=crs.PlateCarree())\n",
    "\n",
    "plt.scatter(x=stanford_loc_counts['long'], \n",
    "            y=stanford_loc_counts['lat'],\n",
    "            transform=crs.PlateCarree(),\n",
    "            c='green', s=400, alpha=.7)\n",
    "plt.title('Stanford Tweet Locations')\n",
    "plt.show()"
   ]
  },
  {
   "cell_type": "code",
   "execution_count": 804,
   "metadata": {},
   "outputs": [
    {
     "data": {
      "image/png": "[encoded data removed]",
      "text/plain": [
       "<Figure size 432x288 with 1 Axes>"
      ]
     },
     "metadata": {},
     "output_type": "display_data"
    }
   ],
   "source": [
    "figure = plt.figure(figsize=(6,4))\n",
    "ax = figure.add_subplot(1,1,1, projection=crs.Mercator())\n",
    "ax.add_feature(cfeature.COASTLINE)\n",
    "ax.add_feature(cfeature.STATES)# Zoom in on the US by setting longitude/latitude parameters\n",
    "ax.set_extent([-125, -65, 25, 50], crs=crs.PlateCarree())\n",
    "\n",
    "plt.scatter(x=uchicago_loc_counts['long'], \n",
    "            y=uchicago_loc_counts['lat'],\n",
    "            transform=crs.PlateCarree(),\n",
    "            c='red', s=400, alpha=.7)\n",
    "plt.title('UChicago Tweet Locations')\n",
    "plt.show()"
   ]
  },
  {
   "cell_type": "code",
   "execution_count": 866,
   "metadata": {},
   "outputs": [],
   "source": [
    "top_users_nonuni = {}\n",
    "for i in [c for c in os.listdir('./Data/top_users_nonuni') if c.split('.')[-1]=='csv']:\n",
    "    z = list(pd.read_csv(f'./Data/top_users_nonuni/{i}').columns)\n",
    "    top_users_nonuni[int(z[0])] = int(z[1])\n",
    "\n",
    "top_users_nonuni = pd.DataFrame.from_dict(top_users_nonuni, orient='index', columns=['non_uni_tweets'])"
   ]
  },
  {
   "cell_type": "code",
   "execution_count": 871,
   "metadata": {},
   "outputs": [
    {
     "data": {
      "text/html": [
       "<div>\n",
       "<style scoped>\n",
       "    .dataframe tbody tr th:only-of-type {\n",
       "        vertical-align: middle;\n",
       "    }\n",
       "\n",
       "    .dataframe tbody tr th {\n",
       "        vertical-align: top;\n",
       "    }\n",
       "\n",
       "    .dataframe thead th {\n",
       "        text-align: right;\n",
       "    }\n",
       "</style>\n",
       "<table border=\"1\" class=\"dataframe\">\n",
       "  <thead>\n",
       "    <tr style=\"text-align: right;\">\n",
       "      <th></th>\n",
       "      <th>tweet_id</th>\n",
       "      <th>non_uni_tweets</th>\n",
       "    </tr>\n",
       "  </thead>\n",
       "  <tbody>\n",
       "    <tr>\n",
       "      <th>60258204</th>\n",
       "      <td>1.0</td>\n",
       "      <td>NaN</td>\n",
       "    </tr>\n",
       "    <tr>\n",
       "      <th>1257170815881228288</th>\n",
       "      <td>61.0</td>\n",
       "      <td>NaN</td>\n",
       "    </tr>\n",
       "    <tr>\n",
       "      <th>13584132</th>\n",
       "      <td>NaN</td>\n",
       "      <td>891.0</td>\n",
       "    </tr>\n",
       "    <tr>\n",
       "      <th>756040164149977088</th>\n",
       "      <td>35.0</td>\n",
       "      <td>NaN</td>\n",
       "    </tr>\n",
       "    <tr>\n",
       "      <th>3149729430</th>\n",
       "      <td>NaN</td>\n",
       "      <td>40693.0</td>\n",
       "    </tr>\n",
       "  </tbody>\n",
       "</table>\n",
       "</div>"
      ],
      "text/plain": [
       "                     tweet_id  non_uni_tweets\n",
       "60258204                  1.0             NaN\n",
       "1257170815881228288      61.0             NaN\n",
       "13584132                  NaN           891.0\n",
       "756040164149977088       35.0             NaN\n",
       "3149729430                NaN         40693.0"
      ]
     },
     "execution_count": 871,
     "metadata": {},
     "output_type": "execute_result"
    }
   ],
   "source": [
    "cm_nonuni = cm_top_counts.join(top_users_nonuni)\n",
    "cm_nonuni"
   ]
  },
  {
   "cell_type": "code",
   "execution_count": 873,
   "metadata": {},
   "outputs": [
    {
     "data": {
      "text/html": [
       "<div>\n",
       "<style scoped>\n",
       "    .dataframe tbody tr th:only-of-type {\n",
       "        vertical-align: middle;\n",
       "    }\n",
       "\n",
       "    .dataframe tbody tr th {\n",
       "        vertical-align: top;\n",
       "    }\n",
       "\n",
       "    .dataframe thead th {\n",
       "        text-align: right;\n",
       "    }\n",
       "</style>\n",
       "<table border=\"1\" class=\"dataframe\">\n",
       "  <thead>\n",
       "    <tr style=\"text-align: right;\">\n",
       "      <th></th>\n",
       "      <th>tweet_id</th>\n",
       "      <th>non_uni_tweets</th>\n",
       "    </tr>\n",
       "  </thead>\n",
       "  <tbody>\n",
       "    <tr>\n",
       "      <th>3149729430</th>\n",
       "      <td>NaN</td>\n",
       "      <td>40693.0</td>\n",
       "    </tr>\n",
       "    <tr>\n",
       "      <th>1257170815881228288</th>\n",
       "      <td>21.0</td>\n",
       "      <td>NaN</td>\n",
       "    </tr>\n",
       "    <tr>\n",
       "      <th>1001229541585686528</th>\n",
       "      <td>1.0</td>\n",
       "      <td>NaN</td>\n",
       "    </tr>\n",
       "    <tr>\n",
       "      <th>3243551873</th>\n",
       "      <td>NaN</td>\n",
       "      <td>3199.0</td>\n",
       "    </tr>\n",
       "    <tr>\n",
       "      <th>614974325</th>\n",
       "      <td>NaN</td>\n",
       "      <td>5242.0</td>\n",
       "    </tr>\n",
       "  </tbody>\n",
       "</table>\n",
       "</div>"
      ],
      "text/plain": [
       "                     tweet_id  non_uni_tweets\n",
       "3149729430                NaN         40693.0\n",
       "1257170815881228288      21.0             NaN\n",
       "1001229541585686528       1.0             NaN\n",
       "3243551873                NaN          3199.0\n",
       "614974325                 NaN          5242.0"
      ]
     },
     "execution_count": 873,
     "metadata": {},
     "output_type": "execute_result"
    }
   ],
   "source": [
    "cornell_nonuni = cornell_top_counts.join(top_users_nonuni)\n",
    "cornell_nonuni"
   ]
  },
  {
   "cell_type": "code",
   "execution_count": 874,
   "metadata": {},
   "outputs": [
    {
     "data": {
      "text/html": [
       "<div>\n",
       "<style scoped>\n",
       "    .dataframe tbody tr th:only-of-type {\n",
       "        vertical-align: middle;\n",
       "    }\n",
       "\n",
       "    .dataframe tbody tr th {\n",
       "        vertical-align: top;\n",
       "    }\n",
       "\n",
       "    .dataframe thead th {\n",
       "        text-align: right;\n",
       "    }\n",
       "</style>\n",
       "<table border=\"1\" class=\"dataframe\">\n",
       "  <thead>\n",
       "    <tr style=\"text-align: right;\">\n",
       "      <th></th>\n",
       "      <th>tweet_id</th>\n",
       "      <th>non_uni_tweets</th>\n",
       "    </tr>\n",
       "  </thead>\n",
       "  <tbody>\n",
       "    <tr>\n",
       "      <th>4074372137</th>\n",
       "      <td>NaN</td>\n",
       "      <td>423.0</td>\n",
       "    </tr>\n",
       "    <tr>\n",
       "      <th>841437061</th>\n",
       "      <td>284.0</td>\n",
       "      <td>610.0</td>\n",
       "    </tr>\n",
       "    <tr>\n",
       "      <th>844456269222232064</th>\n",
       "      <td>NaN</td>\n",
       "      <td>NaN</td>\n",
       "    </tr>\n",
       "    <tr>\n",
       "      <th>844458707178139648</th>\n",
       "      <td>NaN</td>\n",
       "      <td>NaN</td>\n",
       "    </tr>\n",
       "    <tr>\n",
       "      <th>718175074537177088</th>\n",
       "      <td>55.0</td>\n",
       "      <td>145.0</td>\n",
       "    </tr>\n",
       "  </tbody>\n",
       "</table>\n",
       "</div>"
      ],
      "text/plain": [
       "                    tweet_id  non_uni_tweets\n",
       "4074372137               NaN           423.0\n",
       "841437061              284.0           610.0\n",
       "844456269222232064       NaN             NaN\n",
       "844458707178139648       NaN             NaN\n",
       "718175074537177088      55.0           145.0"
      ]
     },
     "execution_count": 874,
     "metadata": {},
     "output_type": "execute_result"
    }
   ],
   "source": [
    "stanford_nonuni = stanford_top_counts.join(top_users_nonuni)\n",
    "stanford_nonuni"
   ]
  },
  {
   "cell_type": "code",
   "execution_count": 875,
   "metadata": {},
   "outputs": [
    {
     "data": {
      "text/html": [
       "<div>\n",
       "<style scoped>\n",
       "    .dataframe tbody tr th:only-of-type {\n",
       "        vertical-align: middle;\n",
       "    }\n",
       "\n",
       "    .dataframe tbody tr th {\n",
       "        vertical-align: top;\n",
       "    }\n",
       "\n",
       "    .dataframe thead th {\n",
       "        text-align: right;\n",
       "    }\n",
       "</style>\n",
       "<table border=\"1\" class=\"dataframe\">\n",
       "  <thead>\n",
       "    <tr style=\"text-align: right;\">\n",
       "      <th></th>\n",
       "      <th>tweet_id</th>\n",
       "      <th>non_uni_tweets</th>\n",
       "    </tr>\n",
       "  </thead>\n",
       "  <tbody>\n",
       "    <tr>\n",
       "      <th>969234723619966976</th>\n",
       "      <td>46.0</td>\n",
       "      <td>NaN</td>\n",
       "    </tr>\n",
       "    <tr>\n",
       "      <th>772170180</th>\n",
       "      <td>43.0</td>\n",
       "      <td>173.0</td>\n",
       "    </tr>\n",
       "    <tr>\n",
       "      <th>24698230</th>\n",
       "      <td>NaN</td>\n",
       "      <td>3716.0</td>\n",
       "    </tr>\n",
       "    <tr>\n",
       "      <th>741636827178799104</th>\n",
       "      <td>8.0</td>\n",
       "      <td>NaN</td>\n",
       "    </tr>\n",
       "    <tr>\n",
       "      <th>929740814657441792</th>\n",
       "      <td>NaN</td>\n",
       "      <td>4884.0</td>\n",
       "    </tr>\n",
       "  </tbody>\n",
       "</table>\n",
       "</div>"
      ],
      "text/plain": [
       "                    tweet_id  non_uni_tweets\n",
       "969234723619966976      46.0             NaN\n",
       "772170180               43.0           173.0\n",
       "24698230                 NaN          3716.0\n",
       "741636827178799104       8.0             NaN\n",
       "929740814657441792       NaN          4884.0"
      ]
     },
     "execution_count": 875,
     "metadata": {},
     "output_type": "execute_result"
    }
   ],
   "source": [
    "uchicago_nonuni = uchicago_top_counts.join(top_users_nonuni)\n",
    "uchicago_nonuni"
   ]
  },
  {
   "cell_type": "code",
   "execution_count": 879,
   "metadata": {},
   "outputs": [
    {
     "data": {
      "image/png": "[encoded data removed]",
      "text/plain": [
       "<Figure size 288x216 with 1 Axes>"
      ]
     },
     "metadata": {},
     "output_type": "display_data"
    }
   ],
   "source": [
    "plt.figure(figsize=(4,3))\n",
    "plot = sns.barplot(x = [1,2,3,4,5], y = cm_nonuni.non_uni_tweets.values, palette='Blues')\n",
    "plt.title('C.M. Top 5 User Non-University Tweets')\n",
    "plt.show(plot);"
   ]
  },
  {
   "cell_type": "code",
   "execution_count": 880,
   "metadata": {},
   "outputs": [
    {
     "data": {
      "image/png": "[encoded data removed]",
      "text/plain": [
       "<Figure size 288x216 with 1 Axes>"
      ]
     },
     "metadata": {},
     "output_type": "display_data"
    }
   ],
   "source": [
    "plt.figure(figsize=(4,3))\n",
    "plot = sns.barplot(x = [1,2,3,4,5], y = cornell_nonuni.non_uni_tweets.values, palette='Blues')\n",
    "plt.title('Cornell Top 5 User Non-University Tweets')\n",
    "plt.show(plot);"
   ]
  },
  {
   "cell_type": "code",
   "execution_count": 881,
   "metadata": {},
   "outputs": [
    {
     "data": {
      "image/png": "[encoded data removed]",
      "text/plain": [
       "<Figure size 288x216 with 1 Axes>"
      ]
     },
     "metadata": {},
     "output_type": "display_data"
    }
   ],
   "source": [
    "plt.figure(figsize=(4,3))\n",
    "plot = sns.barplot(x = [1,2,3,4,5], y = stanford_nonuni.non_uni_tweets.values, palette='Blues')\n",
    "plt.title('Stanford Top 5 User Non-University Tweets')\n",
    "plt.show(plot);"
   ]
  },
  {
   "cell_type": "code",
   "execution_count": 883,
   "metadata": {},
   "outputs": [
    {
     "data": {
      "image/png": "[encoded data removed]",
      "text/plain": [
       "<Figure size 288x216 with 1 Axes>"
      ]
     },
     "metadata": {},
     "output_type": "display_data"
    }
   ],
   "source": [
    "plt.figure(figsize=(4,3))\n",
    "plot = sns.barplot(x = [1,2,3,4,5], y = uchicago_nonuni.non_uni_tweets.values, palette='Blues')\n",
    "plt.title('UChicago Top 5 User Non-University Tweets')\n",
    "plt.show(plot);"
   ]
  },
  {
   "cell_type": "code",
   "execution_count": null,
   "metadata": {},
   "outputs": [],
   "source": [
    "plt.figure(figsize=(4,3))\n",
    "plot = sns.barplot(x = [1,2,3,4,5], y = cm_nonuni.non_uni_tweets.values, palette='Blues')\n",
    "plt.title('C.M. Top 5 User Non-University Tweets')\n",
    "plt.show(plot);"
   ]
  },
  {
   "cell_type": "code",
   "execution_count": null,
   "metadata": {},
   "outputs": [],
   "source": [
    "uchicago_top_counts = pd.DataFrame(data=tvars.loc[(tvars.school=='uchicago') & (tvars.is_retweet), \n",
    "                                       ['user_id', 'tweet_id']].groupby('user_id')\\\n",
    "    .count().sort_values('tweet_id',ascending=False).tweet_id, index=uchicago_users)\n",
    "\n",
    "plt.figure(figsize=(4,3))\n",
    "plot = sns.barplot(x = [1,2,3,4,5], y = uchicago_top_counts.values.flatten(), palette='Blues')\n",
    "plt.title('UChicago Top 5 User Retweet Counts')\n",
    "plt.show(plot);"
   ]
  }
 ],
 "metadata": {
  "kernelspec": {
   "display_name": "Python 3",
   "language": "python",
   "name": "python3"
  },
  "language_info": {
   "codemirror_mode": {
    "name": "ipython",
    "version": 3
   },
   "file_extension": ".py",
   "mimetype": "text/x-python",
   "name": "python",
   "nbconvert_exporter": "python",
   "pygments_lexer": "ipython3",
   "version": "3.8.3"
  }
 },
 "nbformat": 4,
 "nbformat_minor": 4
}
